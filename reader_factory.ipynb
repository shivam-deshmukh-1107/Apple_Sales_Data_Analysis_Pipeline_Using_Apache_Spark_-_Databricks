{
 "cells": [
  {
   "cell_type": "markdown",
   "metadata": {
    "application/vnd.databricks.v1+cell": {
     "cellMetadata": {},
     "inputWidgets": {},
     "nuid": "0aef4c5c-2e5e-4102-ba76-8a5b41eb6cf8",
     "showTitle": false,
     "tableResultSettingsMap": {},
     "title": ""
    }
   },
   "source": [
    "# Reader Factory Class\n",
    "Designed to read data from different sources"
   ]
  },
  {
   "cell_type": "code",
   "execution_count": 0,
   "metadata": {
    "application/vnd.databricks.v1+cell": {
     "cellMetadata": {
      "byteLimit": 2048000,
      "rowLimit": 10000
     },
     "inputWidgets": {},
     "nuid": "0de5a353-84ef-4eb1-a3da-00b273f294b9",
     "showTitle": false,
     "tableResultSettingsMap": {},
     "title": ""
    }
   },
   "outputs": [],
   "source": [
    "class DataSource:\n",
    "    \"\"\"\n",
    "    Abstract Class\n",
    "    \"\"\"\n",
    "    def __init__(self, path):\n",
    "        self.path = path\n",
    "\n",
    "    def get_data_frame(self):\n",
    "        \"\"\"\n",
    "        Abstract Method - Functions will be defined in subclasses\n",
    "        \"\"\"\n",
    "        raise ValueError(\"Not Implemented !!\")\n",
    "\n",
    "\n",
    "class CSV_Data_Source(DataSource):\n",
    "\n",
    "    def __init__(self, path, delimiter=','):\n",
    "        super().__init__(path)\n",
    "        self.delimiter = delimiter\n",
    "\n",
    "    def get_data_frame(self):\n",
    "        return (\n",
    "            spark.read.format(\"csv\")\n",
    "            .option(\"header\", True)\n",
    "            .option(\"inferSchema\", True)\n",
    "            .option(\"sep\", self.delimiter)\n",
    "            .load(self.path)\n",
    "        )\n",
    "\n",
    "\n",
    "class Parquet_Data_Source(DataSource):\n",
    "\n",
    "    def get_data_frame(self):\n",
    "        return (\n",
    "            spark.read.format(\"parquet\")\n",
    "            .load(self.path)\n",
    "        )\n",
    "\n",
    "\n",
    "class Delta_Data_Source(DataSource):\n",
    "\n",
    "    def get_data_frame(self):\n",
    "\n",
    "        table_name = self.path\n",
    "\n",
    "        return (\n",
    "            spark.read.table(table_name)\n",
    "        )\n",
    "\n",
    "\n",
    "def get_data_source(data_type, file_path, **kwargs):\n",
    "    if data_type == \"csv\":\n",
    "        delimiter = kwargs.get('delimiter', ',')\n",
    "        return CSV_Data_Source(file_path, delimiter=delimiter)\n",
    "\n",
    "    elif data_type == \"parquet\":\n",
    "        return Parquet_Data_Source(file_path)\n",
    "\n",
    "    elif data_type == \"delta\":\n",
    "        return Delta_Data_Source(file_path)\n",
    "\n",
    "    else:\n",
    "        raise ValueError(f\"Not Implemented for Data Type: {data_type}\")\n",
    "\n",
    "\n"
   ]
  }
 ],
 "metadata": {
  "application/vnd.databricks.v1+notebook": {
   "computePreferences": null,
   "dashboards": [],
   "environmentMetadata": {
    "base_environment": "",
    "environment_version": "1"
   },
   "inputWidgetPreferences": null,
   "language": "python",
   "notebookMetadata": {
    "pythonIndentUnit": 4
   },
   "notebookName": "reader_factory",
   "widgets": {}
  }
 },
 "nbformat": 4,
 "nbformat_minor": 0
}