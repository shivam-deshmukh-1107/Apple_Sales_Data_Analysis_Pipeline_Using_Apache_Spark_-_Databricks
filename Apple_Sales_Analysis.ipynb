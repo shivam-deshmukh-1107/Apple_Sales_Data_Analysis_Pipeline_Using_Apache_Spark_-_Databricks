{
 "cells": [
  {
   "cell_type": "markdown",
   "metadata": {
    "application/vnd.databricks.v1+cell": {
     "cellMetadata": {
      "byteLimit": 2048000,
      "rowLimit": 10000
     },
     "inputWidgets": {},
     "nuid": "6a0c0a42-4965-4e2a-98d0-7959227a4996",
     "showTitle": false,
     "tableResultSettingsMap": {},
     "title": ""
    }
   },
   "source": [
    "# Amazon Sales Analysis Notebook"
   ]
  },
  {
   "cell_type": "markdown",
   "metadata": {
    "application/vnd.databricks.v1+cell": {
     "cellMetadata": {},
     "inputWidgets": {},
     "nuid": "dfeae105-7d51-474e-96cd-9d5595d404bd",
     "showTitle": false,
     "tableResultSettingsMap": {},
     "title": ""
    }
   },
   "source": [
    "### Importing and running class file"
   ]
  },
  {
   "cell_type": "code",
   "execution_count": 0,
   "metadata": {
    "application/vnd.databricks.v1+cell": {
     "cellMetadata": {
      "byteLimit": 2048000,
      "rowLimit": 10000
     },
     "inputWidgets": {},
     "nuid": "a5ec5e54-81b4-4c97-8298-ea3b303a5272",
     "showTitle": false,
     "tableResultSettingsMap": {},
     "title": ""
    }
   },
   "outputs": [],
   "source": [
    "%run \"./transformer\""
   ]
  },
  {
   "cell_type": "code",
   "execution_count": 0,
   "metadata": {
    "application/vnd.databricks.v1+cell": {
     "cellMetadata": {
      "byteLimit": 2048000,
      "rowLimit": 10000
     },
     "inputWidgets": {},
     "nuid": "be8b6ad9-6d04-48b1-9b1f-5c9c40ca4a89",
     "showTitle": false,
     "tableResultSettingsMap": {},
     "title": ""
    }
   },
   "outputs": [],
   "source": [
    "%run \"./extractor\""
   ]
  },
  {
   "cell_type": "code",
   "execution_count": 0,
   "metadata": {
    "application/vnd.databricks.v1+cell": {
     "cellMetadata": {
      "byteLimit": 2048000,
      "rowLimit": 10000
     },
     "inputWidgets": {},
     "nuid": "1c542a5e-8562-4774-a425-6b41f7a62a85",
     "showTitle": false,
     "tableResultSettingsMap": {},
     "title": ""
    }
   },
   "outputs": [],
   "source": [
    "%run \"./loader\""
   ]
  },
  {
   "cell_type": "markdown",
   "metadata": {
    "application/vnd.databricks.v1+cell": {
     "cellMetadata": {},
     "inputWidgets": {},
     "nuid": "785e21f2-6bfa-492e-8710-7ed2f29e1dc1",
     "showTitle": false,
     "tableResultSettingsMap": {},
     "title": ""
    }
   },
   "source": [
    "### Data Pipeline Runner Class"
   ]
  },
  {
   "cell_type": "code",
   "execution_count": 0,
   "metadata": {
    "application/vnd.databricks.v1+cell": {
     "cellMetadata": {
      "byteLimit": 2048000,
      "rowLimit": 10000
     },
     "inputWidgets": {},
     "nuid": "480f4782-430d-4322-ba55-cbfb1a1c8216",
     "showTitle": false,
     "tableResultSettingsMap": {},
     "title": ""
    }
   },
   "outputs": [],
   "source": [
    "class Data_Pipeline_Runner:\n",
    "\n",
    "    def __init__(self, name):\n",
    "        self.name = name\n",
    "    \n",
    "    def runner(self):\n",
    "        if self.name == \"first_data_pipeline\":\n",
    "            return First_Data_Pipeline().runner()\n",
    "        elif self.name == \"second_data_pipeline\":\n",
    "            return Second_Data_Pipeline().runner()\n",
    "        elif self.name == \"third_data_pipeline\":\n",
    "            return Third_Data_Pipeline().runner()\n",
    "        elif self.name == \"fourth_data_pipeline\":\n",
    "            return Fourth_Data_Pipeline().runner()\n",
    "        elif self.name == \"fifth_data_pipeline\":\n",
    "            return Fifth_Data_Pipeline().runner()\n",
    "        else:\n",
    "            raise ValueError(f\"Not Implemented {self.name}!!!\")\n"
   ]
  },
  {
   "cell_type": "markdown",
   "metadata": {
    "application/vnd.databricks.v1+cell": {
     "cellMetadata": {},
     "inputWidgets": {},
     "nuid": "62859323-3957-4060-a5e0-c1424278f4a8",
     "showTitle": false,
     "tableResultSettingsMap": {},
     "title": ""
    }
   },
   "source": [
    "### First Data Pipeline\n",
    "#### Business Logic Implemented: Customers who have bought AirPods after buying an iPhone"
   ]
  },
  {
   "cell_type": "code",
   "execution_count": 0,
   "metadata": {
    "application/vnd.databricks.v1+cell": {
     "cellMetadata": {
      "byteLimit": 2048000,
      "rowLimit": 10000
     },
     "inputWidgets": {},
     "nuid": "23454825-d457-404d-97bd-bff5d0b96be5",
     "showTitle": false,
     "tableResultSettingsMap": {},
     "title": ""
    }
   },
   "outputs": [],
   "source": [
    "class First_Data_Pipeline:\n",
    "    \"\"\"\n",
    "    ETL Pipeline to generate the data for all customers who have brought AirPods just after buying Iphone\n",
    "    \"\"\"\n",
    "    def __init__(self):\n",
    "        pass\n",
    "    \n",
    "    def runner(self):\n",
    "\n",
    "        # Step 1: Extracting all the required data from difderent sources\n",
    "        input_DFs = Data_Extractor().extract()\n",
    "\n",
    "        # Step 2: Implementing the transformation logic\n",
    "        # Customers who have bought Table after buying Chairs\n",
    "        first_transformed_df = AirPods_After_Iphone_Transformer().transform(input_DFs)\n",
    "\n",
    "        # Step 3: Loading all the required data to different sink\n",
    "        Airpods_after_Iphone_Loader(first_transformed_df).sink()\n"
   ]
  },
  {
   "cell_type": "code",
   "execution_count": 0,
   "metadata": {
    "application/vnd.databricks.v1+cell": {
     "cellMetadata": {
      "byteLimit": 2048000,
      "rowLimit": 10000
     },
     "inputWidgets": {},
     "nuid": "c016ba56-8509-4c9a-a574-6b347bbe5515",
     "showTitle": false,
     "tableResultSettingsMap": {},
     "title": ""
    }
   },
   "outputs": [
    {
     "output_type": "stream",
     "name": "stdout",
     "output_type": "stream",
     "text": [
      "Extracted Data according to the Customer ID and Transaction date:\n"
     ]
    },
    {
     "output_type": "display_data",
     "data": {
      "text/html": [
       "<style scoped>\n",
       "  .table-result-container {\n",
       "    max-height: 300px;\n",
       "    overflow: auto;\n",
       "  }\n",
       "  table, th, td {\n",
       "    border: 1px solid black;\n",
       "    border-collapse: collapse;\n",
       "  }\n",
       "  th, td {\n",
       "    padding: 5px;\n",
       "  }\n",
       "  th {\n",
       "    text-align: left;\n",
       "  }\n",
       "</style><div class='table-result-container'><table class='table-result'><thead style='background-color: white'><tr><th>transaction_id</th><th>customer_id</th><th>product_name</th><th>transaction_date</th></tr></thead><tbody><tr><td>11</td><td>105</td><td>iPhone</td><td>2022-02-01</td></tr><tr><td>14</td><td>105</td><td>AirPods</td><td>2022-02-04</td></tr><tr><td>18</td><td>105</td><td>MacBook</td><td>2022-02-08</td></tr><tr><td>12</td><td>106</td><td>iPhone</td><td>2022-02-02</td></tr><tr><td>16</td><td>106</td><td>MacBook</td><td>2022-02-06</td></tr><tr><td>20</td><td>106</td><td>AirPods</td><td>2022-02-10</td></tr><tr><td>13</td><td>107</td><td>AirPods</td><td>2022-02-03</td></tr><tr><td>17</td><td>107</td><td>iPhone</td><td>2022-02-07</td></tr><tr><td>15</td><td>108</td><td>iPhone</td><td>2022-02-05</td></tr><tr><td>19</td><td>108</td><td>AirPods</td><td>2022-02-09</td></tr></tbody></table></div>"
      ]
     },
     "metadata": {
      "application/vnd.databricks.v1+output": {
       "addedWidgets": {},
       "aggData": [],
       "aggError": "",
       "aggOverflow": false,
       "aggSchema": [],
       "aggSeriesLimitReached": false,
       "aggType": "",
       "arguments": {},
       "columnCustomDisplayInfos": {},
       "data": [
        [
         11,
         105,
         "iPhone",
         "2022-02-01"
        ],
        [
         14,
         105,
         "AirPods",
         "2022-02-04"
        ],
        [
         18,
         105,
         "MacBook",
         "2022-02-08"
        ],
        [
         12,
         106,
         "iPhone",
         "2022-02-02"
        ],
        [
         16,
         106,
         "MacBook",
         "2022-02-06"
        ],
        [
         20,
         106,
         "AirPods",
         "2022-02-10"
        ],
        [
         13,
         107,
         "AirPods",
         "2022-02-03"
        ],
        [
         17,
         107,
         "iPhone",
         "2022-02-07"
        ],
        [
         15,
         108,
         "iPhone",
         "2022-02-05"
        ],
        [
         19,
         108,
         "AirPods",
         "2022-02-09"
        ]
       ],
       "datasetInfos": [],
       "dbfsResultPath": null,
       "isJsonSchema": true,
       "metadata": {},
       "overflow": false,
       "plotOptions": {
        "customPlotOptions": {},
        "displayType": "table",
        "pivotAggregation": null,
        "pivotColumns": null,
        "xColumns": null,
        "yColumns": null
       },
       "removedWidgets": [],
       "schema": [
        {
         "metadata": "{}",
         "name": "transaction_id",
         "type": "\"integer\""
        },
        {
         "metadata": "{}",
         "name": "customer_id",
         "type": "\"integer\""
        },
        {
         "metadata": "{}",
         "name": "product_name",
         "type": "\"string\""
        },
        {
         "metadata": "{\"__detected_date_formats\":\"yyyy-M-d\"}",
         "name": "transaction_date",
         "type": "\"date\""
        }
       ],
       "type": "table"
      }
     },
     "output_type": "display_data"
    },
    {
     "output_type": "stream",
     "name": "stdout",
     "output_type": "stream",
     "text": [
      "Transaction DataFrame:\n"
     ]
    },
    {
     "output_type": "display_data",
     "data": {
      "text/html": [
       "<style scoped>\n",
       "  .table-result-container {\n",
       "    max-height: 300px;\n",
       "    overflow: auto;\n",
       "  }\n",
       "  table, th, td {\n",
       "    border: 1px solid black;\n",
       "    border-collapse: collapse;\n",
       "  }\n",
       "  th, td {\n",
       "    padding: 5px;\n",
       "  }\n",
       "  th {\n",
       "    text-align: left;\n",
       "  }\n",
       "</style><div class='table-result-container'><table class='table-result'><thead style='background-color: white'><tr><th>transaction_id</th><th>customer_id</th><th>product_name</th><th>transaction_date</th></tr></thead><tbody><tr><td>11</td><td>105</td><td>iPhone</td><td>2022-02-01</td></tr><tr><td>12</td><td>106</td><td>iPhone</td><td>2022-02-02</td></tr><tr><td>13</td><td>107</td><td>AirPods</td><td>2022-02-03</td></tr><tr><td>14</td><td>105</td><td>AirPods</td><td>2022-02-04</td></tr><tr><td>15</td><td>108</td><td>iPhone</td><td>2022-02-05</td></tr><tr><td>16</td><td>106</td><td>MacBook</td><td>2022-02-06</td></tr><tr><td>17</td><td>107</td><td>iPhone</td><td>2022-02-07</td></tr><tr><td>18</td><td>105</td><td>MacBook</td><td>2022-02-08</td></tr><tr><td>19</td><td>108</td><td>AirPods</td><td>2022-02-09</td></tr><tr><td>20</td><td>106</td><td>AirPods</td><td>2022-02-10</td></tr></tbody></table></div>"
      ]
     },
     "metadata": {
      "application/vnd.databricks.v1+output": {
       "addedWidgets": {},
       "aggData": [],
       "aggError": "",
       "aggOverflow": false,
       "aggSchema": [],
       "aggSeriesLimitReached": false,
       "aggType": "",
       "arguments": {},
       "columnCustomDisplayInfos": {},
       "data": [
        [
         11,
         105,
         "iPhone",
         "2022-02-01"
        ],
        [
         12,
         106,
         "iPhone",
         "2022-02-02"
        ],
        [
         13,
         107,
         "AirPods",
         "2022-02-03"
        ],
        [
         14,
         105,
         "AirPods",
         "2022-02-04"
        ],
        [
         15,
         108,
         "iPhone",
         "2022-02-05"
        ],
        [
         16,
         106,
         "MacBook",
         "2022-02-06"
        ],
        [
         17,
         107,
         "iPhone",
         "2022-02-07"
        ],
        [
         18,
         105,
         "MacBook",
         "2022-02-08"
        ],
        [
         19,
         108,
         "AirPods",
         "2022-02-09"
        ],
        [
         20,
         106,
         "AirPods",
         "2022-02-10"
        ]
       ],
       "datasetInfos": [],
       "dbfsResultPath": null,
       "isJsonSchema": true,
       "metadata": {},
       "overflow": false,
       "plotOptions": {
        "customPlotOptions": {},
        "displayType": "table",
        "pivotAggregation": null,
        "pivotColumns": null,
        "xColumns": null,
        "yColumns": null
       },
       "removedWidgets": [],
       "schema": [
        {
         "metadata": "{}",
         "name": "transaction_id",
         "type": "\"integer\""
        },
        {
         "metadata": "{}",
         "name": "customer_id",
         "type": "\"integer\""
        },
        {
         "metadata": "{}",
         "name": "product_name",
         "type": "\"string\""
        },
        {
         "metadata": "{\"__detected_date_formats\":\"yyyy-M-d\"}",
         "name": "transaction_date",
         "type": "\"date\""
        }
       ],
       "type": "table"
      }
     },
     "output_type": "display_data"
    },
    {
     "output_type": "stream",
     "name": "stdout",
     "output_type": "stream",
     "text": [
      "Customer DataFrame:\n"
     ]
    },
    {
     "output_type": "display_data",
     "data": {
      "text/html": [
       "<style scoped>\n",
       "  .table-result-container {\n",
       "    max-height: 300px;\n",
       "    overflow: auto;\n",
       "  }\n",
       "  table, th, td {\n",
       "    border: 1px solid black;\n",
       "    border-collapse: collapse;\n",
       "  }\n",
       "  th, td {\n",
       "    padding: 5px;\n",
       "  }\n",
       "  th {\n",
       "    text-align: left;\n",
       "  }\n",
       "</style><div class='table-result-container'><table class='table-result'><thead style='background-color: white'><tr><th>customer_id</th><th>customer_name</th><th>join_date</th><th>location</th></tr></thead><tbody><tr><td>105</td><td>Eva</td><td>2022-01-01T00:00:00.000+0000</td><td>Ohio</td></tr><tr><td>106</td><td>Frank</td><td>2022-02-01T00:00:00.000+0000</td><td>Nevada</td></tr><tr><td>107</td><td>Grace</td><td>2022-03-01T00:00:00.000+0000</td><td>Colorado</td></tr><tr><td>108</td><td>Henry</td><td>2022-04-01T00:00:00.000+0000</td><td>Utah</td></tr></tbody></table></div>"
      ]
     },
     "metadata": {
      "application/vnd.databricks.v1+output": {
       "addedWidgets": {},
       "aggData": [],
       "aggError": "",
       "aggOverflow": false,
       "aggSchema": [],
       "aggSeriesLimitReached": false,
       "aggType": "",
       "arguments": {},
       "columnCustomDisplayInfos": {},
       "data": [
        [
         "105",
         "Eva",
         "2022-01-01T00:00:00.000+0000",
         "Ohio"
        ],
        [
         "106",
         "Frank",
         "2022-02-01T00:00:00.000+0000",
         "Nevada"
        ],
        [
         "107",
         "Grace",
         "2022-03-01T00:00:00.000+0000",
         "Colorado"
        ],
        [
         "108",
         "Henry",
         "2022-04-01T00:00:00.000+0000",
         "Utah"
        ]
       ],
       "datasetInfos": [],
       "dbfsResultPath": null,
       "isJsonSchema": true,
       "metadata": {},
       "overflow": false,
       "plotOptions": {
        "customPlotOptions": {},
        "displayType": "table",
        "pivotAggregation": null,
        "pivotColumns": null,
        "xColumns": null,
        "yColumns": null
       },
       "removedWidgets": [],
       "schema": [
        {
         "metadata": "{}",
         "name": "customer_id",
         "type": "\"string\""
        },
        {
         "metadata": "{}",
         "name": "customer_name",
         "type": "\"string\""
        },
        {
         "metadata": "{}",
         "name": "join_date",
         "type": "\"timestamp\""
        },
        {
         "metadata": "{}",
         "name": "location",
         "type": "\"string\""
        }
       ],
       "type": "table"
      }
     },
     "output_type": "display_data"
    },
    {
     "output_type": "stream",
     "name": "stdout",
     "output_type": "stream",
     "text": [
      "DataFrame with next product per transaction:\n"
     ]
    },
    {
     "output_type": "display_data",
     "data": {
      "text/html": [
       "<style scoped>\n",
       "  .table-result-container {\n",
       "    max-height: 300px;\n",
       "    overflow: auto;\n",
       "  }\n",
       "  table, th, td {\n",
       "    border: 1px solid black;\n",
       "    border-collapse: collapse;\n",
       "  }\n",
       "  th, td {\n",
       "    padding: 5px;\n",
       "  }\n",
       "  th {\n",
       "    text-align: left;\n",
       "  }\n",
       "</style><div class='table-result-container'><table class='table-result'><thead style='background-color: white'><tr><th>transaction_id</th><th>customer_id</th><th>product_name</th><th>transaction_date</th><th>next_product_name</th></tr></thead><tbody><tr><td>11</td><td>105</td><td>iPhone</td><td>2022-02-01</td><td>AirPods</td></tr><tr><td>14</td><td>105</td><td>AirPods</td><td>2022-02-04</td><td>MacBook</td></tr><tr><td>18</td><td>105</td><td>MacBook</td><td>2022-02-08</td><td>null</td></tr><tr><td>12</td><td>106</td><td>iPhone</td><td>2022-02-02</td><td>MacBook</td></tr><tr><td>16</td><td>106</td><td>MacBook</td><td>2022-02-06</td><td>AirPods</td></tr><tr><td>20</td><td>106</td><td>AirPods</td><td>2022-02-10</td><td>null</td></tr><tr><td>13</td><td>107</td><td>AirPods</td><td>2022-02-03</td><td>iPhone</td></tr><tr><td>17</td><td>107</td><td>iPhone</td><td>2022-02-07</td><td>null</td></tr><tr><td>15</td><td>108</td><td>iPhone</td><td>2022-02-05</td><td>AirPods</td></tr><tr><td>19</td><td>108</td><td>AirPods</td><td>2022-02-09</td><td>null</td></tr></tbody></table></div>"
      ]
     },
     "metadata": {
      "application/vnd.databricks.v1+output": {
       "addedWidgets": {},
       "aggData": [],
       "aggError": "",
       "aggOverflow": false,
       "aggSchema": [],
       "aggSeriesLimitReached": false,
       "aggType": "",
       "arguments": {},
       "columnCustomDisplayInfos": {},
       "data": [
        [
         11,
         105,
         "iPhone",
         "2022-02-01",
         "AirPods"
        ],
        [
         14,
         105,
         "AirPods",
         "2022-02-04",
         "MacBook"
        ],
        [
         18,
         105,
         "MacBook",
         "2022-02-08",
         null
        ],
        [
         12,
         106,
         "iPhone",
         "2022-02-02",
         "MacBook"
        ],
        [
         16,
         106,
         "MacBook",
         "2022-02-06",
         "AirPods"
        ],
        [
         20,
         106,
         "AirPods",
         "2022-02-10",
         null
        ],
        [
         13,
         107,
         "AirPods",
         "2022-02-03",
         "iPhone"
        ],
        [
         17,
         107,
         "iPhone",
         "2022-02-07",
         null
        ],
        [
         15,
         108,
         "iPhone",
         "2022-02-05",
         "AirPods"
        ],
        [
         19,
         108,
         "AirPods",
         "2022-02-09",
         null
        ]
       ],
       "datasetInfos": [],
       "dbfsResultPath": null,
       "isJsonSchema": true,
       "metadata": {},
       "overflow": false,
       "plotOptions": {
        "customPlotOptions": {},
        "displayType": "table",
        "pivotAggregation": null,
        "pivotColumns": null,
        "xColumns": null,
        "yColumns": null
       },
       "removedWidgets": [],
       "schema": [
        {
         "metadata": "{}",
         "name": "transaction_id",
         "type": "\"integer\""
        },
        {
         "metadata": "{}",
         "name": "customer_id",
         "type": "\"integer\""
        },
        {
         "metadata": "{}",
         "name": "product_name",
         "type": "\"string\""
        },
        {
         "metadata": "{\"__detected_date_formats\":\"yyyy-M-d\"}",
         "name": "transaction_date",
         "type": "\"date\""
        },
        {
         "metadata": "{}",
         "name": "next_product_name",
         "type": "\"string\""
        }
       ],
       "type": "table"
      }
     },
     "output_type": "display_data"
    },
    {
     "output_type": "stream",
     "name": "stdout",
     "output_type": "stream",
     "text": [
      "Filtered DataFrame (iPhone followed by AirPods):\n"
     ]
    },
    {
     "output_type": "display_data",
     "data": {
      "text/html": [
       "<style scoped>\n",
       "  .table-result-container {\n",
       "    max-height: 300px;\n",
       "    overflow: auto;\n",
       "  }\n",
       "  table, th, td {\n",
       "    border: 1px solid black;\n",
       "    border-collapse: collapse;\n",
       "  }\n",
       "  th, td {\n",
       "    padding: 5px;\n",
       "  }\n",
       "  th {\n",
       "    text-align: left;\n",
       "  }\n",
       "</style><div class='table-result-container'><table class='table-result'><thead style='background-color: white'><tr><th>transaction_id</th><th>customer_id</th><th>product_name</th><th>transaction_date</th><th>next_product_name</th></tr></thead><tbody><tr><td>11</td><td>105</td><td>iPhone</td><td>2022-02-01</td><td>AirPods</td></tr><tr><td>15</td><td>108</td><td>iPhone</td><td>2022-02-05</td><td>AirPods</td></tr></tbody></table></div>"
      ]
     },
     "metadata": {
      "application/vnd.databricks.v1+output": {
       "addedWidgets": {},
       "aggData": [],
       "aggError": "",
       "aggOverflow": false,
       "aggSchema": [],
       "aggSeriesLimitReached": false,
       "aggType": "",
       "arguments": {},
       "columnCustomDisplayInfos": {},
       "data": [
        [
         11,
         105,
         "iPhone",
         "2022-02-01",
         "AirPods"
        ],
        [
         15,
         108,
         "iPhone",
         "2022-02-05",
         "AirPods"
        ]
       ],
       "datasetInfos": [],
       "dbfsResultPath": null,
       "isJsonSchema": true,
       "metadata": {},
       "overflow": false,
       "plotOptions": {
        "customPlotOptions": {},
        "displayType": "table",
        "pivotAggregation": null,
        "pivotColumns": null,
        "xColumns": null,
        "yColumns": null
       },
       "removedWidgets": [],
       "schema": [
        {
         "metadata": "{}",
         "name": "transaction_id",
         "type": "\"integer\""
        },
        {
         "metadata": "{}",
         "name": "customer_id",
         "type": "\"integer\""
        },
        {
         "metadata": "{}",
         "name": "product_name",
         "type": "\"string\""
        },
        {
         "metadata": "{\"__detected_date_formats\":\"yyyy-M-d\"}",
         "name": "transaction_date",
         "type": "\"date\""
        },
        {
         "metadata": "{}",
         "name": "next_product_name",
         "type": "\"string\""
        }
       ],
       "type": "table"
      }
     },
     "output_type": "display_data"
    },
    {
     "output_type": "stream",
     "name": "stdout",
     "output_type": "stream",
     "text": [
      "Joined DataFrame with customer details:\n"
     ]
    },
    {
     "output_type": "display_data",
     "data": {
      "text/html": [
       "<style scoped>\n",
       "  .table-result-container {\n",
       "    max-height: 300px;\n",
       "    overflow: auto;\n",
       "  }\n",
       "  table, th, td {\n",
       "    border: 1px solid black;\n",
       "    border-collapse: collapse;\n",
       "  }\n",
       "  th, td {\n",
       "    padding: 5px;\n",
       "  }\n",
       "  th {\n",
       "    text-align: left;\n",
       "  }\n",
       "</style><div class='table-result-container'><table class='table-result'><thead style='background-color: white'><tr><th>customer_id</th><th>customer_name</th><th>join_date</th><th>location</th><th>transaction_id</th><th>product_name</th><th>transaction_date</th><th>next_product_name</th></tr></thead><tbody><tr><td>105</td><td>Eva</td><td>2022-01-01T00:00:00.000+0000</td><td>Ohio</td><td>11</td><td>iPhone</td><td>2022-02-01</td><td>AirPods</td></tr><tr><td>108</td><td>Henry</td><td>2022-04-01T00:00:00.000+0000</td><td>Utah</td><td>15</td><td>iPhone</td><td>2022-02-05</td><td>AirPods</td></tr></tbody></table></div>"
      ]
     },
     "metadata": {
      "application/vnd.databricks.v1+output": {
       "addedWidgets": {},
       "aggData": [],
       "aggError": "",
       "aggOverflow": false,
       "aggSchema": [],
       "aggSeriesLimitReached": false,
       "aggType": "",
       "arguments": {},
       "columnCustomDisplayInfos": {},
       "data": [
        [
         "105",
         "Eva",
         "2022-01-01T00:00:00.000+0000",
         "Ohio",
         11,
         "iPhone",
         "2022-02-01",
         "AirPods"
        ],
        [
         "108",
         "Henry",
         "2022-04-01T00:00:00.000+0000",
         "Utah",
         15,
         "iPhone",
         "2022-02-05",
         "AirPods"
        ]
       ],
       "datasetInfos": [],
       "dbfsResultPath": null,
       "isJsonSchema": true,
       "metadata": {},
       "overflow": false,
       "plotOptions": {
        "customPlotOptions": {},
        "displayType": "table",
        "pivotAggregation": null,
        "pivotColumns": null,
        "xColumns": null,
        "yColumns": null
       },
       "removedWidgets": [],
       "schema": [
        {
         "metadata": "{}",
         "name": "customer_id",
         "type": "\"string\""
        },
        {
         "metadata": "{}",
         "name": "customer_name",
         "type": "\"string\""
        },
        {
         "metadata": "{}",
         "name": "join_date",
         "type": "\"timestamp\""
        },
        {
         "metadata": "{}",
         "name": "location",
         "type": "\"string\""
        },
        {
         "metadata": "{}",
         "name": "transaction_id",
         "type": "\"integer\""
        },
        {
         "metadata": "{}",
         "name": "product_name",
         "type": "\"string\""
        },
        {
         "metadata": "{\"__detected_date_formats\":\"yyyy-M-d\"}",
         "name": "transaction_date",
         "type": "\"date\""
        },
        {
         "metadata": "{}",
         "name": "next_product_name",
         "type": "\"string\""
        }
       ],
       "type": "table"
      }
     },
     "output_type": "display_data"
    }
   ],
   "source": [
    "pipeline_name = \"first_data_pipeline\"\n",
    "data_pipeline_runner = Data_Pipeline_Runner(pipeline_name).runner()"
   ]
  },
  {
   "cell_type": "markdown",
   "metadata": {
    "application/vnd.databricks.v1+cell": {
     "cellMetadata": {},
     "inputWidgets": {},
     "nuid": "56b330a8-a269-4598-8f74-a65b96a29e34",
     "showTitle": false,
     "tableResultSettingsMap": {},
     "title": ""
    }
   },
   "source": [
    "### Second Data Pipeline\n",
    "#### Business Logic Implemented: Customers who have bought both AirPods and iPhone"
   ]
  },
  {
   "cell_type": "code",
   "execution_count": 0,
   "metadata": {
    "application/vnd.databricks.v1+cell": {
     "cellMetadata": {
      "byteLimit": 2048000,
      "rowLimit": 10000
     },
     "inputWidgets": {},
     "nuid": "ab09ec95-1318-4f67-965f-f1a33531c473",
     "showTitle": false,
     "tableResultSettingsMap": {},
     "title": ""
    }
   },
   "outputs": [],
   "source": [
    "class Second_Data_Pipeline:\n",
    "    \"\"\"\n",
    "    ETL Pipeline to generate the data for all customers who have brought only Iphone\n",
    "    \"\"\"\n",
    "    def __init__(self):\n",
    "        pass\n",
    "    \n",
    "    def runner(self):\n",
    "\n",
    "        # Step 1: Extracting all the required data from difderent sources\n",
    "        input_DFs = Data_Extractor().extract()\n",
    "\n",
    "        # Step 2: Implementing the transformation logic\n",
    "        # Customers who have bought Table after buying Chairs\n",
    "        second_transformed_df = Only_AirPods_and_Iphone_Transformer().transform(input_DFs)\n",
    "\n",
    "        # Step 3: Loading all the required data to different sink\n",
    "        Only_Airpods_and_Iphone_Loader(second_transformed_df).sink()\n"
   ]
  },
  {
   "cell_type": "code",
   "execution_count": 0,
   "metadata": {
    "application/vnd.databricks.v1+cell": {
     "cellMetadata": {
      "byteLimit": 2048000,
      "rowLimit": 10000
     },
     "inputWidgets": {},
     "nuid": "de1a6e6c-21c4-4f1b-bed9-47b64f385d3f",
     "showTitle": false,
     "tableResultSettingsMap": {},
     "title": ""
    }
   },
   "outputs": [
    {
     "output_type": "stream",
     "name": "stdout",
     "output_type": "stream",
     "text": [
      "Extracted Data according to the Customer ID and Transaction date:\n"
     ]
    },
    {
     "output_type": "display_data",
     "data": {
      "text/html": [
       "<style scoped>\n",
       "  .table-result-container {\n",
       "    max-height: 300px;\n",
       "    overflow: auto;\n",
       "  }\n",
       "  table, th, td {\n",
       "    border: 1px solid black;\n",
       "    border-collapse: collapse;\n",
       "  }\n",
       "  th, td {\n",
       "    padding: 5px;\n",
       "  }\n",
       "  th {\n",
       "    text-align: left;\n",
       "  }\n",
       "</style><div class='table-result-container'><table class='table-result'><thead style='background-color: white'><tr><th>transaction_id</th><th>customer_id</th><th>product_name</th><th>transaction_date</th></tr></thead><tbody><tr><td>11</td><td>105</td><td>iPhone</td><td>2022-02-01</td></tr><tr><td>14</td><td>105</td><td>AirPods</td><td>2022-02-04</td></tr><tr><td>18</td><td>105</td><td>MacBook</td><td>2022-02-08</td></tr><tr><td>12</td><td>106</td><td>iPhone</td><td>2022-02-02</td></tr><tr><td>16</td><td>106</td><td>MacBook</td><td>2022-02-06</td></tr><tr><td>20</td><td>106</td><td>AirPods</td><td>2022-02-10</td></tr><tr><td>13</td><td>107</td><td>AirPods</td><td>2022-02-03</td></tr><tr><td>17</td><td>107</td><td>iPhone</td><td>2022-02-07</td></tr><tr><td>15</td><td>108</td><td>iPhone</td><td>2022-02-05</td></tr><tr><td>19</td><td>108</td><td>AirPods</td><td>2022-02-09</td></tr></tbody></table></div>"
      ]
     },
     "metadata": {
      "application/vnd.databricks.v1+output": {
       "addedWidgets": {},
       "aggData": [],
       "aggError": "",
       "aggOverflow": false,
       "aggSchema": [],
       "aggSeriesLimitReached": false,
       "aggType": "",
       "arguments": {},
       "columnCustomDisplayInfos": {},
       "data": [
        [
         11,
         105,
         "iPhone",
         "2022-02-01"
        ],
        [
         14,
         105,
         "AirPods",
         "2022-02-04"
        ],
        [
         18,
         105,
         "MacBook",
         "2022-02-08"
        ],
        [
         12,
         106,
         "iPhone",
         "2022-02-02"
        ],
        [
         16,
         106,
         "MacBook",
         "2022-02-06"
        ],
        [
         20,
         106,
         "AirPods",
         "2022-02-10"
        ],
        [
         13,
         107,
         "AirPods",
         "2022-02-03"
        ],
        [
         17,
         107,
         "iPhone",
         "2022-02-07"
        ],
        [
         15,
         108,
         "iPhone",
         "2022-02-05"
        ],
        [
         19,
         108,
         "AirPods",
         "2022-02-09"
        ]
       ],
       "datasetInfos": [],
       "dbfsResultPath": null,
       "isJsonSchema": true,
       "metadata": {},
       "overflow": false,
       "plotOptions": {
        "customPlotOptions": {},
        "displayType": "table",
        "pivotAggregation": null,
        "pivotColumns": null,
        "xColumns": null,
        "yColumns": null
       },
       "removedWidgets": [],
       "schema": [
        {
         "metadata": "{}",
         "name": "transaction_id",
         "type": "\"integer\""
        },
        {
         "metadata": "{}",
         "name": "customer_id",
         "type": "\"integer\""
        },
        {
         "metadata": "{}",
         "name": "product_name",
         "type": "\"string\""
        },
        {
         "metadata": "{\"__detected_date_formats\":\"yyyy-M-d\"}",
         "name": "transaction_date",
         "type": "\"date\""
        }
       ],
       "type": "table"
      }
     },
     "output_type": "display_data"
    },
    {
     "output_type": "stream",
     "name": "stdout",
     "output_type": "stream",
     "text": [
      "Transaction DataFrame:\n"
     ]
    },
    {
     "output_type": "display_data",
     "data": {
      "text/html": [
       "<style scoped>\n",
       "  .table-result-container {\n",
       "    max-height: 300px;\n",
       "    overflow: auto;\n",
       "  }\n",
       "  table, th, td {\n",
       "    border: 1px solid black;\n",
       "    border-collapse: collapse;\n",
       "  }\n",
       "  th, td {\n",
       "    padding: 5px;\n",
       "  }\n",
       "  th {\n",
       "    text-align: left;\n",
       "  }\n",
       "</style><div class='table-result-container'><table class='table-result'><thead style='background-color: white'><tr><th>transaction_id</th><th>customer_id</th><th>product_name</th><th>transaction_date</th></tr></thead><tbody><tr><td>11</td><td>105</td><td>iPhone</td><td>2022-02-01</td></tr><tr><td>12</td><td>106</td><td>iPhone</td><td>2022-02-02</td></tr><tr><td>13</td><td>107</td><td>AirPods</td><td>2022-02-03</td></tr><tr><td>14</td><td>105</td><td>AirPods</td><td>2022-02-04</td></tr><tr><td>15</td><td>108</td><td>iPhone</td><td>2022-02-05</td></tr><tr><td>16</td><td>106</td><td>MacBook</td><td>2022-02-06</td></tr><tr><td>17</td><td>107</td><td>iPhone</td><td>2022-02-07</td></tr><tr><td>18</td><td>105</td><td>MacBook</td><td>2022-02-08</td></tr><tr><td>19</td><td>108</td><td>AirPods</td><td>2022-02-09</td></tr><tr><td>20</td><td>106</td><td>AirPods</td><td>2022-02-10</td></tr></tbody></table></div>"
      ]
     },
     "metadata": {
      "application/vnd.databricks.v1+output": {
       "addedWidgets": {},
       "aggData": [],
       "aggError": "",
       "aggOverflow": false,
       "aggSchema": [],
       "aggSeriesLimitReached": false,
       "aggType": "",
       "arguments": {},
       "columnCustomDisplayInfos": {},
       "data": [
        [
         11,
         105,
         "iPhone",
         "2022-02-01"
        ],
        [
         12,
         106,
         "iPhone",
         "2022-02-02"
        ],
        [
         13,
         107,
         "AirPods",
         "2022-02-03"
        ],
        [
         14,
         105,
         "AirPods",
         "2022-02-04"
        ],
        [
         15,
         108,
         "iPhone",
         "2022-02-05"
        ],
        [
         16,
         106,
         "MacBook",
         "2022-02-06"
        ],
        [
         17,
         107,
         "iPhone",
         "2022-02-07"
        ],
        [
         18,
         105,
         "MacBook",
         "2022-02-08"
        ],
        [
         19,
         108,
         "AirPods",
         "2022-02-09"
        ],
        [
         20,
         106,
         "AirPods",
         "2022-02-10"
        ]
       ],
       "datasetInfos": [],
       "dbfsResultPath": null,
       "isJsonSchema": true,
       "metadata": {},
       "overflow": false,
       "plotOptions": {
        "customPlotOptions": {},
        "displayType": "table",
        "pivotAggregation": null,
        "pivotColumns": null,
        "xColumns": null,
        "yColumns": null
       },
       "removedWidgets": [],
       "schema": [
        {
         "metadata": "{}",
         "name": "transaction_id",
         "type": "\"integer\""
        },
        {
         "metadata": "{}",
         "name": "customer_id",
         "type": "\"integer\""
        },
        {
         "metadata": "{}",
         "name": "product_name",
         "type": "\"string\""
        },
        {
         "metadata": "{\"__detected_date_formats\":\"yyyy-M-d\"}",
         "name": "transaction_date",
         "type": "\"date\""
        }
       ],
       "type": "table"
      }
     },
     "output_type": "display_data"
    },
    {
     "output_type": "stream",
     "name": "stdout",
     "output_type": "stream",
     "text": [
      "Customer DataFrame:\n"
     ]
    },
    {
     "output_type": "display_data",
     "data": {
      "text/html": [
       "<style scoped>\n",
       "  .table-result-container {\n",
       "    max-height: 300px;\n",
       "    overflow: auto;\n",
       "  }\n",
       "  table, th, td {\n",
       "    border: 1px solid black;\n",
       "    border-collapse: collapse;\n",
       "  }\n",
       "  th, td {\n",
       "    padding: 5px;\n",
       "  }\n",
       "  th {\n",
       "    text-align: left;\n",
       "  }\n",
       "</style><div class='table-result-container'><table class='table-result'><thead style='background-color: white'><tr><th>customer_id</th><th>customer_name</th><th>join_date</th><th>location</th></tr></thead><tbody><tr><td>105</td><td>Eva</td><td>2022-01-01T00:00:00.000+0000</td><td>Ohio</td></tr><tr><td>106</td><td>Frank</td><td>2022-02-01T00:00:00.000+0000</td><td>Nevada</td></tr><tr><td>107</td><td>Grace</td><td>2022-03-01T00:00:00.000+0000</td><td>Colorado</td></tr><tr><td>108</td><td>Henry</td><td>2022-04-01T00:00:00.000+0000</td><td>Utah</td></tr></tbody></table></div>"
      ]
     },
     "metadata": {
      "application/vnd.databricks.v1+output": {
       "addedWidgets": {},
       "aggData": [],
       "aggError": "",
       "aggOverflow": false,
       "aggSchema": [],
       "aggSeriesLimitReached": false,
       "aggType": "",
       "arguments": {},
       "columnCustomDisplayInfos": {},
       "data": [
        [
         "105",
         "Eva",
         "2022-01-01T00:00:00.000+0000",
         "Ohio"
        ],
        [
         "106",
         "Frank",
         "2022-02-01T00:00:00.000+0000",
         "Nevada"
        ],
        [
         "107",
         "Grace",
         "2022-03-01T00:00:00.000+0000",
         "Colorado"
        ],
        [
         "108",
         "Henry",
         "2022-04-01T00:00:00.000+0000",
         "Utah"
        ]
       ],
       "datasetInfos": [],
       "dbfsResultPath": null,
       "isJsonSchema": true,
       "metadata": {},
       "overflow": false,
       "plotOptions": {
        "customPlotOptions": {},
        "displayType": "table",
        "pivotAggregation": null,
        "pivotColumns": null,
        "xColumns": null,
        "yColumns": null
       },
       "removedWidgets": [],
       "schema": [
        {
         "metadata": "{}",
         "name": "customer_id",
         "type": "\"string\""
        },
        {
         "metadata": "{}",
         "name": "customer_name",
         "type": "\"string\""
        },
        {
         "metadata": "{}",
         "name": "join_date",
         "type": "\"timestamp\""
        },
        {
         "metadata": "{}",
         "name": "location",
         "type": "\"string\""
        }
       ],
       "type": "table"
      }
     },
     "output_type": "display_data"
    },
    {
     "output_type": "stream",
     "name": "stdout",
     "output_type": "stream",
     "text": [
      "Grouped DataFrame with products per customer:\n"
     ]
    },
    {
     "output_type": "display_data",
     "data": {
      "text/html": [
       "<style scoped>\n",
       "  .table-result-container {\n",
       "    max-height: 300px;\n",
       "    overflow: auto;\n",
       "  }\n",
       "  table, th, td {\n",
       "    border: 1px solid black;\n",
       "    border-collapse: collapse;\n",
       "  }\n",
       "  th, td {\n",
       "    padding: 5px;\n",
       "  }\n",
       "  th {\n",
       "    text-align: left;\n",
       "  }\n",
       "</style><div class='table-result-container'><table class='table-result'><thead style='background-color: white'><tr><th>customer_id</th><th>products</th></tr></thead><tbody><tr><td>108</td><td>List(AirPods, iPhone)</td></tr><tr><td>107</td><td>List(AirPods, iPhone)</td></tr><tr><td>105</td><td>List(AirPods, iPhone, MacBook)</td></tr><tr><td>106</td><td>List(AirPods, iPhone, MacBook)</td></tr></tbody></table></div>"
      ]
     },
     "metadata": {
      "application/vnd.databricks.v1+output": {
       "addedWidgets": {},
       "aggData": [],
       "aggError": "",
       "aggOverflow": false,
       "aggSchema": [],
       "aggSeriesLimitReached": false,
       "aggType": "",
       "arguments": {},
       "columnCustomDisplayInfos": {},
       "data": [
        [
         108,
         [
          "AirPods",
          "iPhone"
         ]
        ],
        [
         107,
         [
          "AirPods",
          "iPhone"
         ]
        ],
        [
         105,
         [
          "AirPods",
          "iPhone",
          "MacBook"
         ]
        ],
        [
         106,
         [
          "AirPods",
          "iPhone",
          "MacBook"
         ]
        ]
       ],
       "datasetInfos": [],
       "dbfsResultPath": null,
       "isJsonSchema": true,
       "metadata": {},
       "overflow": false,
       "plotOptions": {
        "customPlotOptions": {},
        "displayType": "table",
        "pivotAggregation": null,
        "pivotColumns": null,
        "xColumns": null,
        "yColumns": null
       },
       "removedWidgets": [],
       "schema": [
        {
         "metadata": "{}",
         "name": "customer_id",
         "type": "\"integer\""
        },
        {
         "metadata": "{}",
         "name": "products",
         "type": "{\"type\":\"array\",\"elementType\":\"string\",\"containsNull\":false}"
        }
       ],
       "type": "table"
      }
     },
     "output_type": "display_data"
    },
    {
     "output_type": "stream",
     "name": "stdout",
     "output_type": "stream",
     "text": [
      "Filtered DataFrame (only iPhone and AirPods):\n"
     ]
    },
    {
     "output_type": "display_data",
     "data": {
      "text/html": [
       "<style scoped>\n",
       "  .table-result-container {\n",
       "    max-height: 300px;\n",
       "    overflow: auto;\n",
       "  }\n",
       "  table, th, td {\n",
       "    border: 1px solid black;\n",
       "    border-collapse: collapse;\n",
       "  }\n",
       "  th, td {\n",
       "    padding: 5px;\n",
       "  }\n",
       "  th {\n",
       "    text-align: left;\n",
       "  }\n",
       "</style><div class='table-result-container'><table class='table-result'><thead style='background-color: white'><tr><th>customer_id</th><th>products</th></tr></thead><tbody><tr><td>108</td><td>List(AirPods, iPhone)</td></tr><tr><td>107</td><td>List(AirPods, iPhone)</td></tr></tbody></table></div>"
      ]
     },
     "metadata": {
      "application/vnd.databricks.v1+output": {
       "addedWidgets": {},
       "aggData": [],
       "aggError": "",
       "aggOverflow": false,
       "aggSchema": [],
       "aggSeriesLimitReached": false,
       "aggType": "",
       "arguments": {},
       "columnCustomDisplayInfos": {},
       "data": [
        [
         108,
         [
          "AirPods",
          "iPhone"
         ]
        ],
        [
         107,
         [
          "AirPods",
          "iPhone"
         ]
        ]
       ],
       "datasetInfos": [],
       "dbfsResultPath": null,
       "isJsonSchema": true,
       "metadata": {},
       "overflow": false,
       "plotOptions": {
        "customPlotOptions": {},
        "displayType": "table",
        "pivotAggregation": null,
        "pivotColumns": null,
        "xColumns": null,
        "yColumns": null
       },
       "removedWidgets": [],
       "schema": [
        {
         "metadata": "{}",
         "name": "customer_id",
         "type": "\"integer\""
        },
        {
         "metadata": "{}",
         "name": "products",
         "type": "{\"type\":\"array\",\"elementType\":\"string\",\"containsNull\":false}"
        }
       ],
       "type": "table"
      }
     },
     "output_type": "display_data"
    },
    {
     "output_type": "stream",
     "name": "stdout",
     "output_type": "stream",
     "text": [
      "Joined DataFrame with customer details:\n"
     ]
    },
    {
     "output_type": "display_data",
     "data": {
      "text/html": [
       "<style scoped>\n",
       "  .table-result-container {\n",
       "    max-height: 300px;\n",
       "    overflow: auto;\n",
       "  }\n",
       "  table, th, td {\n",
       "    border: 1px solid black;\n",
       "    border-collapse: collapse;\n",
       "  }\n",
       "  th, td {\n",
       "    padding: 5px;\n",
       "  }\n",
       "  th {\n",
       "    text-align: left;\n",
       "  }\n",
       "</style><div class='table-result-container'><table class='table-result'><thead style='background-color: white'><tr><th>customer_id</th><th>customer_name</th><th>join_date</th><th>location</th><th>products</th></tr></thead><tbody><tr><td>107</td><td>Grace</td><td>2022-03-01T00:00:00.000+0000</td><td>Colorado</td><td>List(AirPods, iPhone)</td></tr><tr><td>108</td><td>Henry</td><td>2022-04-01T00:00:00.000+0000</td><td>Utah</td><td>List(AirPods, iPhone)</td></tr></tbody></table></div>"
      ]
     },
     "metadata": {
      "application/vnd.databricks.v1+output": {
       "addedWidgets": {},
       "aggData": [],
       "aggError": "",
       "aggOverflow": false,
       "aggSchema": [],
       "aggSeriesLimitReached": false,
       "aggType": "",
       "arguments": {},
       "columnCustomDisplayInfos": {},
       "data": [
        [
         "107",
         "Grace",
         "2022-03-01T00:00:00.000+0000",
         "Colorado",
         [
          "AirPods",
          "iPhone"
         ]
        ],
        [
         "108",
         "Henry",
         "2022-04-01T00:00:00.000+0000",
         "Utah",
         [
          "AirPods",
          "iPhone"
         ]
        ]
       ],
       "datasetInfos": [],
       "dbfsResultPath": null,
       "isJsonSchema": true,
       "metadata": {},
       "overflow": false,
       "plotOptions": {
        "customPlotOptions": {},
        "displayType": "table",
        "pivotAggregation": null,
        "pivotColumns": null,
        "xColumns": null,
        "yColumns": null
       },
       "removedWidgets": [],
       "schema": [
        {
         "metadata": "{}",
         "name": "customer_id",
         "type": "\"string\""
        },
        {
         "metadata": "{}",
         "name": "customer_name",
         "type": "\"string\""
        },
        {
         "metadata": "{}",
         "name": "join_date",
         "type": "\"timestamp\""
        },
        {
         "metadata": "{}",
         "name": "location",
         "type": "\"string\""
        },
        {
         "metadata": "{}",
         "name": "products",
         "type": "{\"type\":\"array\",\"elementType\":\"string\",\"containsNull\":false}"
        }
       ],
       "type": "table"
      }
     },
     "output_type": "display_data"
    }
   ],
   "source": [
    "pipeline_name = \"second_data_pipeline\"\n",
    "data_pipeline_runner = Data_Pipeline_Runner(pipeline_name).runner()"
   ]
  },
  {
   "cell_type": "markdown",
   "metadata": {
    "application/vnd.databricks.v1+cell": {
     "cellMetadata": {},
     "inputWidgets": {},
     "nuid": "1096151e-5f6f-49ab-b298-35da76a3f672",
     "showTitle": false,
     "tableResultSettingsMap": {},
     "title": ""
    }
   },
   "source": [
    "### Third Data Pipeline\n",
    "#### Business Logic Implemented: List all the products bought by customers after their initial purchase"
   ]
  },
  {
   "cell_type": "code",
   "execution_count": 0,
   "metadata": {
    "application/vnd.databricks.v1+cell": {
     "cellMetadata": {
      "byteLimit": 2048000,
      "rowLimit": 10000
     },
     "inputWidgets": {},
     "nuid": "af7157f9-d103-416c-a08b-f94c9700a747",
     "showTitle": false,
     "tableResultSettingsMap": {},
     "title": ""
    }
   },
   "outputs": [],
   "source": [
    "class Third_Data_Pipeline:\n",
    "    \"\"\"\n",
    "    ETL Pipeline to generate the List all the products bought by customers after their initial purchase\n",
    "    \"\"\"\n",
    "    def __init__(self):\n",
    "        pass\n",
    "    \n",
    "    def runner(self):\n",
    "\n",
    "        # Step 1: Extracting all the required data from difderent sources\n",
    "        input_DFs = Data_Extractor().extract()\n",
    "\n",
    "        # Step 2: Implementing the transformation logic\n",
    "        # Products bought by customers after their initial purchase\n",
    "        third_transformed_df = Products_After_Initial_Purchase_Transformer().transform(input_DFs)\n",
    "\n",
    "        # Step 3: Loading all the required data to different sink\n",
    "        Products_after_Initial_Purchase_Loader(third_transformed_df).sink()"
   ]
  },
  {
   "cell_type": "code",
   "execution_count": 0,
   "metadata": {
    "application/vnd.databricks.v1+cell": {
     "cellMetadata": {
      "byteLimit": 2048000,
      "rowLimit": 10000
     },
     "inputWidgets": {},
     "nuid": "ae28ff55-a4ed-43ad-abf6-15a62a415828",
     "showTitle": false,
     "tableResultSettingsMap": {},
     "title": ""
    }
   },
   "outputs": [
    {
     "output_type": "stream",
     "name": "stdout",
     "output_type": "stream",
     "text": [
      "Extracted Data according to the Customer ID and Transaction date:\n"
     ]
    },
    {
     "output_type": "display_data",
     "data": {
      "text/html": [
       "<style scoped>\n",
       "  .table-result-container {\n",
       "    max-height: 300px;\n",
       "    overflow: auto;\n",
       "  }\n",
       "  table, th, td {\n",
       "    border: 1px solid black;\n",
       "    border-collapse: collapse;\n",
       "  }\n",
       "  th, td {\n",
       "    padding: 5px;\n",
       "  }\n",
       "  th {\n",
       "    text-align: left;\n",
       "  }\n",
       "</style><div class='table-result-container'><table class='table-result'><thead style='background-color: white'><tr><th>transaction_id</th><th>customer_id</th><th>product_name</th><th>transaction_date</th></tr></thead><tbody><tr><td>11</td><td>105</td><td>iPhone</td><td>2022-02-01</td></tr><tr><td>14</td><td>105</td><td>AirPods</td><td>2022-02-04</td></tr><tr><td>18</td><td>105</td><td>MacBook</td><td>2022-02-08</td></tr><tr><td>12</td><td>106</td><td>iPhone</td><td>2022-02-02</td></tr><tr><td>16</td><td>106</td><td>MacBook</td><td>2022-02-06</td></tr><tr><td>20</td><td>106</td><td>AirPods</td><td>2022-02-10</td></tr><tr><td>13</td><td>107</td><td>AirPods</td><td>2022-02-03</td></tr><tr><td>17</td><td>107</td><td>iPhone</td><td>2022-02-07</td></tr><tr><td>15</td><td>108</td><td>iPhone</td><td>2022-02-05</td></tr><tr><td>19</td><td>108</td><td>AirPods</td><td>2022-02-09</td></tr></tbody></table></div>"
      ]
     },
     "metadata": {
      "application/vnd.databricks.v1+output": {
       "addedWidgets": {},
       "aggData": [],
       "aggError": "",
       "aggOverflow": false,
       "aggSchema": [],
       "aggSeriesLimitReached": false,
       "aggType": "",
       "arguments": {},
       "columnCustomDisplayInfos": {},
       "data": [
        [
         11,
         105,
         "iPhone",
         "2022-02-01"
        ],
        [
         14,
         105,
         "AirPods",
         "2022-02-04"
        ],
        [
         18,
         105,
         "MacBook",
         "2022-02-08"
        ],
        [
         12,
         106,
         "iPhone",
         "2022-02-02"
        ],
        [
         16,
         106,
         "MacBook",
         "2022-02-06"
        ],
        [
         20,
         106,
         "AirPods",
         "2022-02-10"
        ],
        [
         13,
         107,
         "AirPods",
         "2022-02-03"
        ],
        [
         17,
         107,
         "iPhone",
         "2022-02-07"
        ],
        [
         15,
         108,
         "iPhone",
         "2022-02-05"
        ],
        [
         19,
         108,
         "AirPods",
         "2022-02-09"
        ]
       ],
       "datasetInfos": [],
       "dbfsResultPath": null,
       "isJsonSchema": true,
       "metadata": {},
       "overflow": false,
       "plotOptions": {
        "customPlotOptions": {},
        "displayType": "table",
        "pivotAggregation": null,
        "pivotColumns": null,
        "xColumns": null,
        "yColumns": null
       },
       "removedWidgets": [],
       "schema": [
        {
         "metadata": "{}",
         "name": "transaction_id",
         "type": "\"integer\""
        },
        {
         "metadata": "{}",
         "name": "customer_id",
         "type": "\"integer\""
        },
        {
         "metadata": "{}",
         "name": "product_name",
         "type": "\"string\""
        },
        {
         "metadata": "{\"__detected_date_formats\":\"yyyy-M-d\"}",
         "name": "transaction_date",
         "type": "\"date\""
        }
       ],
       "type": "table"
      }
     },
     "output_type": "display_data"
    },
    {
     "output_type": "stream",
     "name": "stdout",
     "output_type": "stream",
     "text": [
      "Transaction DataFrame:\n"
     ]
    },
    {
     "output_type": "display_data",
     "data": {
      "text/html": [
       "<style scoped>\n",
       "  .table-result-container {\n",
       "    max-height: 300px;\n",
       "    overflow: auto;\n",
       "  }\n",
       "  table, th, td {\n",
       "    border: 1px solid black;\n",
       "    border-collapse: collapse;\n",
       "  }\n",
       "  th, td {\n",
       "    padding: 5px;\n",
       "  }\n",
       "  th {\n",
       "    text-align: left;\n",
       "  }\n",
       "</style><div class='table-result-container'><table class='table-result'><thead style='background-color: white'><tr><th>transaction_id</th><th>customer_id</th><th>product_name</th><th>transaction_date</th></tr></thead><tbody><tr><td>11</td><td>105</td><td>iPhone</td><td>2022-02-01</td></tr><tr><td>12</td><td>106</td><td>iPhone</td><td>2022-02-02</td></tr><tr><td>13</td><td>107</td><td>AirPods</td><td>2022-02-03</td></tr><tr><td>14</td><td>105</td><td>AirPods</td><td>2022-02-04</td></tr><tr><td>15</td><td>108</td><td>iPhone</td><td>2022-02-05</td></tr><tr><td>16</td><td>106</td><td>MacBook</td><td>2022-02-06</td></tr><tr><td>17</td><td>107</td><td>iPhone</td><td>2022-02-07</td></tr><tr><td>18</td><td>105</td><td>MacBook</td><td>2022-02-08</td></tr><tr><td>19</td><td>108</td><td>AirPods</td><td>2022-02-09</td></tr><tr><td>20</td><td>106</td><td>AirPods</td><td>2022-02-10</td></tr></tbody></table></div>"
      ]
     },
     "metadata": {
      "application/vnd.databricks.v1+output": {
       "addedWidgets": {},
       "aggData": [],
       "aggError": "",
       "aggOverflow": false,
       "aggSchema": [],
       "aggSeriesLimitReached": false,
       "aggType": "",
       "arguments": {},
       "columnCustomDisplayInfos": {},
       "data": [
        [
         11,
         105,
         "iPhone",
         "2022-02-01"
        ],
        [
         12,
         106,
         "iPhone",
         "2022-02-02"
        ],
        [
         13,
         107,
         "AirPods",
         "2022-02-03"
        ],
        [
         14,
         105,
         "AirPods",
         "2022-02-04"
        ],
        [
         15,
         108,
         "iPhone",
         "2022-02-05"
        ],
        [
         16,
         106,
         "MacBook",
         "2022-02-06"
        ],
        [
         17,
         107,
         "iPhone",
         "2022-02-07"
        ],
        [
         18,
         105,
         "MacBook",
         "2022-02-08"
        ],
        [
         19,
         108,
         "AirPods",
         "2022-02-09"
        ],
        [
         20,
         106,
         "AirPods",
         "2022-02-10"
        ]
       ],
       "datasetInfos": [],
       "dbfsResultPath": null,
       "isJsonSchema": true,
       "metadata": {},
       "overflow": false,
       "plotOptions": {
        "customPlotOptions": {},
        "displayType": "table",
        "pivotAggregation": null,
        "pivotColumns": null,
        "xColumns": null,
        "yColumns": null
       },
       "removedWidgets": [],
       "schema": [
        {
         "metadata": "{}",
         "name": "transaction_id",
         "type": "\"integer\""
        },
        {
         "metadata": "{}",
         "name": "customer_id",
         "type": "\"integer\""
        },
        {
         "metadata": "{}",
         "name": "product_name",
         "type": "\"string\""
        },
        {
         "metadata": "{\"__detected_date_formats\":\"yyyy-M-d\"}",
         "name": "transaction_date",
         "type": "\"date\""
        }
       ],
       "type": "table"
      }
     },
     "output_type": "display_data"
    },
    {
     "output_type": "stream",
     "name": "stdout",
     "output_type": "stream",
     "text": [
      "Customer DataFrame:\n"
     ]
    },
    {
     "output_type": "display_data",
     "data": {
      "text/html": [
       "<style scoped>\n",
       "  .table-result-container {\n",
       "    max-height: 300px;\n",
       "    overflow: auto;\n",
       "  }\n",
       "  table, th, td {\n",
       "    border: 1px solid black;\n",
       "    border-collapse: collapse;\n",
       "  }\n",
       "  th, td {\n",
       "    padding: 5px;\n",
       "  }\n",
       "  th {\n",
       "    text-align: left;\n",
       "  }\n",
       "</style><div class='table-result-container'><table class='table-result'><thead style='background-color: white'><tr><th>customer_id</th><th>customer_name</th><th>join_date</th><th>location</th></tr></thead><tbody><tr><td>105</td><td>Eva</td><td>2022-01-01T00:00:00.000+0000</td><td>Ohio</td></tr><tr><td>106</td><td>Frank</td><td>2022-02-01T00:00:00.000+0000</td><td>Nevada</td></tr><tr><td>107</td><td>Grace</td><td>2022-03-01T00:00:00.000+0000</td><td>Colorado</td></tr><tr><td>108</td><td>Henry</td><td>2022-04-01T00:00:00.000+0000</td><td>Utah</td></tr></tbody></table></div>"
      ]
     },
     "metadata": {
      "application/vnd.databricks.v1+output": {
       "addedWidgets": {},
       "aggData": [],
       "aggError": "",
       "aggOverflow": false,
       "aggSchema": [],
       "aggSeriesLimitReached": false,
       "aggType": "",
       "arguments": {},
       "columnCustomDisplayInfos": {},
       "data": [
        [
         "105",
         "Eva",
         "2022-01-01T00:00:00.000+0000",
         "Ohio"
        ],
        [
         "106",
         "Frank",
         "2022-02-01T00:00:00.000+0000",
         "Nevada"
        ],
        [
         "107",
         "Grace",
         "2022-03-01T00:00:00.000+0000",
         "Colorado"
        ],
        [
         "108",
         "Henry",
         "2022-04-01T00:00:00.000+0000",
         "Utah"
        ]
       ],
       "datasetInfos": [],
       "dbfsResultPath": null,
       "isJsonSchema": true,
       "metadata": {},
       "overflow": false,
       "plotOptions": {
        "customPlotOptions": {},
        "displayType": "table",
        "pivotAggregation": null,
        "pivotColumns": null,
        "xColumns": null,
        "yColumns": null
       },
       "removedWidgets": [],
       "schema": [
        {
         "metadata": "{}",
         "name": "customer_id",
         "type": "\"string\""
        },
        {
         "metadata": "{}",
         "name": "customer_name",
         "type": "\"string\""
        },
        {
         "metadata": "{}",
         "name": "join_date",
         "type": "\"timestamp\""
        },
        {
         "metadata": "{}",
         "name": "location",
         "type": "\"string\""
        }
       ],
       "type": "table"
      }
     },
     "output_type": "display_data"
    },
    {
     "output_type": "stream",
     "name": "stdout",
     "output_type": "stream",
     "text": [
      "Transaction DataFrame with purchase order per customer:\n"
     ]
    },
    {
     "output_type": "display_data",
     "data": {
      "text/html": [
       "<style scoped>\n",
       "  .table-result-container {\n",
       "    max-height: 300px;\n",
       "    overflow: auto;\n",
       "  }\n",
       "  table, th, td {\n",
       "    border: 1px solid black;\n",
       "    border-collapse: collapse;\n",
       "  }\n",
       "  th, td {\n",
       "    padding: 5px;\n",
       "  }\n",
       "  th {\n",
       "    text-align: left;\n",
       "  }\n",
       "</style><div class='table-result-container'><table class='table-result'><thead style='background-color: white'><tr><th>transaction_id</th><th>customer_id</th><th>product_name</th><th>transaction_date</th><th>purchase_order</th></tr></thead><tbody><tr><td>11</td><td>105</td><td>iPhone</td><td>2022-02-01</td><td>1</td></tr><tr><td>14</td><td>105</td><td>AirPods</td><td>2022-02-04</td><td>2</td></tr><tr><td>18</td><td>105</td><td>MacBook</td><td>2022-02-08</td><td>3</td></tr><tr><td>12</td><td>106</td><td>iPhone</td><td>2022-02-02</td><td>1</td></tr><tr><td>16</td><td>106</td><td>MacBook</td><td>2022-02-06</td><td>2</td></tr><tr><td>20</td><td>106</td><td>AirPods</td><td>2022-02-10</td><td>3</td></tr><tr><td>13</td><td>107</td><td>AirPods</td><td>2022-02-03</td><td>1</td></tr><tr><td>17</td><td>107</td><td>iPhone</td><td>2022-02-07</td><td>2</td></tr><tr><td>15</td><td>108</td><td>iPhone</td><td>2022-02-05</td><td>1</td></tr><tr><td>19</td><td>108</td><td>AirPods</td><td>2022-02-09</td><td>2</td></tr></tbody></table></div>"
      ]
     },
     "metadata": {
      "application/vnd.databricks.v1+output": {
       "addedWidgets": {},
       "aggData": [],
       "aggError": "",
       "aggOverflow": false,
       "aggSchema": [],
       "aggSeriesLimitReached": false,
       "aggType": "",
       "arguments": {},
       "columnCustomDisplayInfos": {},
       "data": [
        [
         11,
         105,
         "iPhone",
         "2022-02-01",
         1
        ],
        [
         14,
         105,
         "AirPods",
         "2022-02-04",
         2
        ],
        [
         18,
         105,
         "MacBook",
         "2022-02-08",
         3
        ],
        [
         12,
         106,
         "iPhone",
         "2022-02-02",
         1
        ],
        [
         16,
         106,
         "MacBook",
         "2022-02-06",
         2
        ],
        [
         20,
         106,
         "AirPods",
         "2022-02-10",
         3
        ],
        [
         13,
         107,
         "AirPods",
         "2022-02-03",
         1
        ],
        [
         17,
         107,
         "iPhone",
         "2022-02-07",
         2
        ],
        [
         15,
         108,
         "iPhone",
         "2022-02-05",
         1
        ],
        [
         19,
         108,
         "AirPods",
         "2022-02-09",
         2
        ]
       ],
       "datasetInfos": [],
       "dbfsResultPath": null,
       "isJsonSchema": true,
       "metadata": {},
       "overflow": false,
       "plotOptions": {
        "customPlotOptions": {},
        "displayType": "table",
        "pivotAggregation": null,
        "pivotColumns": null,
        "xColumns": null,
        "yColumns": null
       },
       "removedWidgets": [],
       "schema": [
        {
         "metadata": "{}",
         "name": "transaction_id",
         "type": "\"integer\""
        },
        {
         "metadata": "{}",
         "name": "customer_id",
         "type": "\"integer\""
        },
        {
         "metadata": "{}",
         "name": "product_name",
         "type": "\"string\""
        },
        {
         "metadata": "{\"__detected_date_formats\":\"yyyy-M-d\"}",
         "name": "transaction_date",
         "type": "\"date\""
        },
        {
         "metadata": "{}",
         "name": "purchase_order",
         "type": "\"integer\""
        }
       ],
       "type": "table"
      }
     },
     "output_type": "display_data"
    },
    {
     "output_type": "stream",
     "name": "stdout",
     "output_type": "stream",
     "text": [
      "Transactions after the first purchase:\n"
     ]
    },
    {
     "output_type": "display_data",
     "data": {
      "text/html": [
       "<style scoped>\n",
       "  .table-result-container {\n",
       "    max-height: 300px;\n",
       "    overflow: auto;\n",
       "  }\n",
       "  table, th, td {\n",
       "    border: 1px solid black;\n",
       "    border-collapse: collapse;\n",
       "  }\n",
       "  th, td {\n",
       "    padding: 5px;\n",
       "  }\n",
       "  th {\n",
       "    text-align: left;\n",
       "  }\n",
       "</style><div class='table-result-container'><table class='table-result'><thead style='background-color: white'><tr><th>transaction_id</th><th>customer_id</th><th>product_name</th><th>transaction_date</th><th>purchase_order</th></tr></thead><tbody><tr><td>14</td><td>105</td><td>AirPods</td><td>2022-02-04</td><td>2</td></tr><tr><td>18</td><td>105</td><td>MacBook</td><td>2022-02-08</td><td>3</td></tr><tr><td>16</td><td>106</td><td>MacBook</td><td>2022-02-06</td><td>2</td></tr><tr><td>20</td><td>106</td><td>AirPods</td><td>2022-02-10</td><td>3</td></tr><tr><td>17</td><td>107</td><td>iPhone</td><td>2022-02-07</td><td>2</td></tr><tr><td>19</td><td>108</td><td>AirPods</td><td>2022-02-09</td><td>2</td></tr></tbody></table></div>"
      ]
     },
     "metadata": {
      "application/vnd.databricks.v1+output": {
       "addedWidgets": {},
       "aggData": [],
       "aggError": "",
       "aggOverflow": false,
       "aggSchema": [],
       "aggSeriesLimitReached": false,
       "aggType": "",
       "arguments": {},
       "columnCustomDisplayInfos": {},
       "data": [
        [
         14,
         105,
         "AirPods",
         "2022-02-04",
         2
        ],
        [
         18,
         105,
         "MacBook",
         "2022-02-08",
         3
        ],
        [
         16,
         106,
         "MacBook",
         "2022-02-06",
         2
        ],
        [
         20,
         106,
         "AirPods",
         "2022-02-10",
         3
        ],
        [
         17,
         107,
         "iPhone",
         "2022-02-07",
         2
        ],
        [
         19,
         108,
         "AirPods",
         "2022-02-09",
         2
        ]
       ],
       "datasetInfos": [],
       "dbfsResultPath": null,
       "isJsonSchema": true,
       "metadata": {},
       "overflow": false,
       "plotOptions": {
        "customPlotOptions": {},
        "displayType": "table",
        "pivotAggregation": null,
        "pivotColumns": null,
        "xColumns": null,
        "yColumns": null
       },
       "removedWidgets": [],
       "schema": [
        {
         "metadata": "{}",
         "name": "transaction_id",
         "type": "\"integer\""
        },
        {
         "metadata": "{}",
         "name": "customer_id",
         "type": "\"integer\""
        },
        {
         "metadata": "{}",
         "name": "product_name",
         "type": "\"string\""
        },
        {
         "metadata": "{\"__detected_date_formats\":\"yyyy-M-d\"}",
         "name": "transaction_date",
         "type": "\"date\""
        },
        {
         "metadata": "{}",
         "name": "purchase_order",
         "type": "\"integer\""
        }
       ],
       "type": "table"
      }
     },
     "output_type": "display_data"
    },
    {
     "output_type": "stream",
     "name": "stdout",
     "output_type": "stream",
     "text": [
      "Grouped DataFrame with products purchased after initial transaction:\n"
     ]
    },
    {
     "output_type": "display_data",
     "data": {
      "text/html": [
       "<style scoped>\n",
       "  .table-result-container {\n",
       "    max-height: 300px;\n",
       "    overflow: auto;\n",
       "  }\n",
       "  table, th, td {\n",
       "    border: 1px solid black;\n",
       "    border-collapse: collapse;\n",
       "  }\n",
       "  th, td {\n",
       "    padding: 5px;\n",
       "  }\n",
       "  th {\n",
       "    text-align: left;\n",
       "  }\n",
       "</style><div class='table-result-container'><table class='table-result'><thead style='background-color: white'><tr><th>customer_id</th><th>products_after_initial</th></tr></thead><tbody><tr><td>105</td><td>List(AirPods, MacBook)</td></tr><tr><td>106</td><td>List(AirPods, MacBook)</td></tr><tr><td>107</td><td>List(iPhone)</td></tr><tr><td>108</td><td>List(AirPods)</td></tr></tbody></table></div>"
      ]
     },
     "metadata": {
      "application/vnd.databricks.v1+output": {
       "addedWidgets": {},
       "aggData": [],
       "aggError": "",
       "aggOverflow": false,
       "aggSchema": [],
       "aggSeriesLimitReached": false,
       "aggType": "",
       "arguments": {},
       "columnCustomDisplayInfos": {},
       "data": [
        [
         105,
         [
          "AirPods",
          "MacBook"
         ]
        ],
        [
         106,
         [
          "AirPods",
          "MacBook"
         ]
        ],
        [
         107,
         [
          "iPhone"
         ]
        ],
        [
         108,
         [
          "AirPods"
         ]
        ]
       ],
       "datasetInfos": [],
       "dbfsResultPath": null,
       "isJsonSchema": true,
       "metadata": {},
       "overflow": false,
       "plotOptions": {
        "customPlotOptions": {},
        "displayType": "table",
        "pivotAggregation": null,
        "pivotColumns": null,
        "xColumns": null,
        "yColumns": null
       },
       "removedWidgets": [],
       "schema": [
        {
         "metadata": "{}",
         "name": "customer_id",
         "type": "\"integer\""
        },
        {
         "metadata": "{}",
         "name": "products_after_initial",
         "type": "{\"type\":\"array\",\"elementType\":\"string\",\"containsNull\":false}"
        }
       ],
       "type": "table"
      }
     },
     "output_type": "display_data"
    },
    {
     "output_type": "stream",
     "name": "stdout",
     "output_type": "stream",
     "text": [
      "Joined DataFrame with customer details and follow-up products:\n"
     ]
    },
    {
     "output_type": "display_data",
     "data": {
      "text/html": [
       "<style scoped>\n",
       "  .table-result-container {\n",
       "    max-height: 300px;\n",
       "    overflow: auto;\n",
       "  }\n",
       "  table, th, td {\n",
       "    border: 1px solid black;\n",
       "    border-collapse: collapse;\n",
       "  }\n",
       "  th, td {\n",
       "    padding: 5px;\n",
       "  }\n",
       "  th {\n",
       "    text-align: left;\n",
       "  }\n",
       "</style><div class='table-result-container'><table class='table-result'><thead style='background-color: white'><tr><th>customer_id</th><th>customer_name</th><th>join_date</th><th>location</th><th>products_after_initial</th></tr></thead><tbody><tr><td>105</td><td>Eva</td><td>2022-01-01T00:00:00.000+0000</td><td>Ohio</td><td>List(AirPods, MacBook)</td></tr><tr><td>106</td><td>Frank</td><td>2022-02-01T00:00:00.000+0000</td><td>Nevada</td><td>List(AirPods, MacBook)</td></tr><tr><td>107</td><td>Grace</td><td>2022-03-01T00:00:00.000+0000</td><td>Colorado</td><td>List(iPhone)</td></tr><tr><td>108</td><td>Henry</td><td>2022-04-01T00:00:00.000+0000</td><td>Utah</td><td>List(AirPods)</td></tr></tbody></table></div>"
      ]
     },
     "metadata": {
      "application/vnd.databricks.v1+output": {
       "addedWidgets": {},
       "aggData": [],
       "aggError": "",
       "aggOverflow": false,
       "aggSchema": [],
       "aggSeriesLimitReached": false,
       "aggType": "",
       "arguments": {},
       "columnCustomDisplayInfos": {},
       "data": [
        [
         "105",
         "Eva",
         "2022-01-01T00:00:00.000+0000",
         "Ohio",
         [
          "AirPods",
          "MacBook"
         ]
        ],
        [
         "106",
         "Frank",
         "2022-02-01T00:00:00.000+0000",
         "Nevada",
         [
          "AirPods",
          "MacBook"
         ]
        ],
        [
         "107",
         "Grace",
         "2022-03-01T00:00:00.000+0000",
         "Colorado",
         [
          "iPhone"
         ]
        ],
        [
         "108",
         "Henry",
         "2022-04-01T00:00:00.000+0000",
         "Utah",
         [
          "AirPods"
         ]
        ]
       ],
       "datasetInfos": [],
       "dbfsResultPath": null,
       "isJsonSchema": true,
       "metadata": {},
       "overflow": false,
       "plotOptions": {
        "customPlotOptions": {},
        "displayType": "table",
        "pivotAggregation": null,
        "pivotColumns": null,
        "xColumns": null,
        "yColumns": null
       },
       "removedWidgets": [],
       "schema": [
        {
         "metadata": "{}",
         "name": "customer_id",
         "type": "\"string\""
        },
        {
         "metadata": "{}",
         "name": "customer_name",
         "type": "\"string\""
        },
        {
         "metadata": "{}",
         "name": "join_date",
         "type": "\"timestamp\""
        },
        {
         "metadata": "{}",
         "name": "location",
         "type": "\"string\""
        },
        {
         "metadata": "{}",
         "name": "products_after_initial",
         "type": "{\"type\":\"array\",\"elementType\":\"string\",\"containsNull\":false}"
        }
       ],
       "type": "table"
      }
     },
     "output_type": "display_data"
    }
   ],
   "source": [
    "pipeline_name = \"third_data_pipeline\"\n",
    "data_pipeline_runner = Data_Pipeline_Runner(pipeline_name).runner()"
   ]
  },
  {
   "cell_type": "markdown",
   "metadata": {
    "application/vnd.databricks.v1+cell": {
     "cellMetadata": {},
     "inputWidgets": {},
     "nuid": "266cacb9-4a8e-4134-a3fe-647d15ce5270",
     "showTitle": false,
     "tableResultSettingsMap": {},
     "title": ""
    }
   },
   "source": [
    "### Fourth Data Pipeline\n",
    "#### Business Logic Implemented: \n",
    "#### Determine the average time delay between buying an iPhone and buying an AirPods for each customer."
   ]
  },
  {
   "cell_type": "code",
   "execution_count": 0,
   "metadata": {
    "application/vnd.databricks.v1+cell": {
     "cellMetadata": {
      "byteLimit": 2048000,
      "rowLimit": 10000
     },
     "inputWidgets": {},
     "nuid": "6c4ace3d-fd7b-48b0-9597-214abf6e7471",
     "showTitle": false,
     "tableResultSettingsMap": {},
     "title": ""
    }
   },
   "outputs": [],
   "source": [
    "class Fourth_Data_Pipeline:\n",
    "    \"\"\"\n",
    "    ETL Pipeline to Determine the average time delay between buying an iPhone and buying an AirPods for each customer.\n",
    "    \"\"\"\n",
    "    def __init__(self):\n",
    "        pass\n",
    "    \n",
    "    def runner(self):\n",
    "\n",
    "        # Step 1: Extracting all the required data from difderent sources\n",
    "        input_DFs = Data_Extractor().extract()\n",
    "\n",
    "        # Step 2: Implementing the transformation logic\n",
    "        # Products bought by customers after their initial purchase\n",
    "        fourth_transformed_df = Avg_Time_Delay_iPhone_AirPods_Transformer().transform(input_DFs)\n",
    "\n",
    "        # Step 3: Loading all the required data to different sink\n",
    "        Avg_Time_Delay_iPhone_AirPods_Loader(fourth_transformed_df).sink()"
   ]
  },
  {
   "cell_type": "code",
   "execution_count": 0,
   "metadata": {
    "application/vnd.databricks.v1+cell": {
     "cellMetadata": {
      "byteLimit": 2048000,
      "rowLimit": 10000
     },
     "inputWidgets": {},
     "nuid": "644d1aa5-395c-4e56-8826-5dfbb5cb0ed4",
     "showTitle": false,
     "tableResultSettingsMap": {},
     "title": ""
    }
   },
   "outputs": [
    {
     "output_type": "stream",
     "name": "stdout",
     "output_type": "stream",
     "text": [
      "Extracted Data according to the Customer ID and Transaction date:\n"
     ]
    },
    {
     "output_type": "display_data",
     "data": {
      "text/html": [
       "<style scoped>\n",
       "  .table-result-container {\n",
       "    max-height: 300px;\n",
       "    overflow: auto;\n",
       "  }\n",
       "  table, th, td {\n",
       "    border: 1px solid black;\n",
       "    border-collapse: collapse;\n",
       "  }\n",
       "  th, td {\n",
       "    padding: 5px;\n",
       "  }\n",
       "  th {\n",
       "    text-align: left;\n",
       "  }\n",
       "</style><div class='table-result-container'><table class='table-result'><thead style='background-color: white'><tr><th>transaction_id</th><th>customer_id</th><th>product_name</th><th>transaction_date</th></tr></thead><tbody><tr><td>11</td><td>105</td><td>iPhone</td><td>2022-02-01</td></tr><tr><td>14</td><td>105</td><td>AirPods</td><td>2022-02-04</td></tr><tr><td>18</td><td>105</td><td>MacBook</td><td>2022-02-08</td></tr><tr><td>12</td><td>106</td><td>iPhone</td><td>2022-02-02</td></tr><tr><td>16</td><td>106</td><td>MacBook</td><td>2022-02-06</td></tr><tr><td>20</td><td>106</td><td>AirPods</td><td>2022-02-10</td></tr><tr><td>13</td><td>107</td><td>AirPods</td><td>2022-02-03</td></tr><tr><td>17</td><td>107</td><td>iPhone</td><td>2022-02-07</td></tr><tr><td>15</td><td>108</td><td>iPhone</td><td>2022-02-05</td></tr><tr><td>19</td><td>108</td><td>AirPods</td><td>2022-02-09</td></tr></tbody></table></div>"
      ]
     },
     "metadata": {
      "application/vnd.databricks.v1+output": {
       "addedWidgets": {},
       "aggData": [],
       "aggError": "",
       "aggOverflow": false,
       "aggSchema": [],
       "aggSeriesLimitReached": false,
       "aggType": "",
       "arguments": {},
       "columnCustomDisplayInfos": {},
       "data": [
        [
         11,
         105,
         "iPhone",
         "2022-02-01"
        ],
        [
         14,
         105,
         "AirPods",
         "2022-02-04"
        ],
        [
         18,
         105,
         "MacBook",
         "2022-02-08"
        ],
        [
         12,
         106,
         "iPhone",
         "2022-02-02"
        ],
        [
         16,
         106,
         "MacBook",
         "2022-02-06"
        ],
        [
         20,
         106,
         "AirPods",
         "2022-02-10"
        ],
        [
         13,
         107,
         "AirPods",
         "2022-02-03"
        ],
        [
         17,
         107,
         "iPhone",
         "2022-02-07"
        ],
        [
         15,
         108,
         "iPhone",
         "2022-02-05"
        ],
        [
         19,
         108,
         "AirPods",
         "2022-02-09"
        ]
       ],
       "datasetInfos": [],
       "dbfsResultPath": null,
       "isJsonSchema": true,
       "metadata": {},
       "overflow": false,
       "plotOptions": {
        "customPlotOptions": {},
        "displayType": "table",
        "pivotAggregation": null,
        "pivotColumns": null,
        "xColumns": null,
        "yColumns": null
       },
       "removedWidgets": [],
       "schema": [
        {
         "metadata": "{}",
         "name": "transaction_id",
         "type": "\"integer\""
        },
        {
         "metadata": "{}",
         "name": "customer_id",
         "type": "\"integer\""
        },
        {
         "metadata": "{}",
         "name": "product_name",
         "type": "\"string\""
        },
        {
         "metadata": "{\"__detected_date_formats\":\"yyyy-M-d\"}",
         "name": "transaction_date",
         "type": "\"date\""
        }
       ],
       "type": "table"
      }
     },
     "output_type": "display_data"
    },
    {
     "output_type": "stream",
     "name": "stdout",
     "output_type": "stream",
     "text": [
      "Transaction DataFrame:\n"
     ]
    },
    {
     "output_type": "display_data",
     "data": {
      "text/html": [
       "<style scoped>\n",
       "  .table-result-container {\n",
       "    max-height: 300px;\n",
       "    overflow: auto;\n",
       "  }\n",
       "  table, th, td {\n",
       "    border: 1px solid black;\n",
       "    border-collapse: collapse;\n",
       "  }\n",
       "  th, td {\n",
       "    padding: 5px;\n",
       "  }\n",
       "  th {\n",
       "    text-align: left;\n",
       "  }\n",
       "</style><div class='table-result-container'><table class='table-result'><thead style='background-color: white'><tr><th>transaction_id</th><th>customer_id</th><th>product_name</th><th>transaction_date</th></tr></thead><tbody><tr><td>11</td><td>105</td><td>iPhone</td><td>2022-02-01</td></tr><tr><td>12</td><td>106</td><td>iPhone</td><td>2022-02-02</td></tr><tr><td>13</td><td>107</td><td>AirPods</td><td>2022-02-03</td></tr><tr><td>14</td><td>105</td><td>AirPods</td><td>2022-02-04</td></tr><tr><td>15</td><td>108</td><td>iPhone</td><td>2022-02-05</td></tr><tr><td>16</td><td>106</td><td>MacBook</td><td>2022-02-06</td></tr><tr><td>17</td><td>107</td><td>iPhone</td><td>2022-02-07</td></tr><tr><td>18</td><td>105</td><td>MacBook</td><td>2022-02-08</td></tr><tr><td>19</td><td>108</td><td>AirPods</td><td>2022-02-09</td></tr><tr><td>20</td><td>106</td><td>AirPods</td><td>2022-02-10</td></tr></tbody></table></div>"
      ]
     },
     "metadata": {
      "application/vnd.databricks.v1+output": {
       "addedWidgets": {},
       "aggData": [],
       "aggError": "",
       "aggOverflow": false,
       "aggSchema": [],
       "aggSeriesLimitReached": false,
       "aggType": "",
       "arguments": {},
       "columnCustomDisplayInfos": {},
       "data": [
        [
         11,
         105,
         "iPhone",
         "2022-02-01"
        ],
        [
         12,
         106,
         "iPhone",
         "2022-02-02"
        ],
        [
         13,
         107,
         "AirPods",
         "2022-02-03"
        ],
        [
         14,
         105,
         "AirPods",
         "2022-02-04"
        ],
        [
         15,
         108,
         "iPhone",
         "2022-02-05"
        ],
        [
         16,
         106,
         "MacBook",
         "2022-02-06"
        ],
        [
         17,
         107,
         "iPhone",
         "2022-02-07"
        ],
        [
         18,
         105,
         "MacBook",
         "2022-02-08"
        ],
        [
         19,
         108,
         "AirPods",
         "2022-02-09"
        ],
        [
         20,
         106,
         "AirPods",
         "2022-02-10"
        ]
       ],
       "datasetInfos": [],
       "dbfsResultPath": null,
       "isJsonSchema": true,
       "metadata": {},
       "overflow": false,
       "plotOptions": {
        "customPlotOptions": {},
        "displayType": "table",
        "pivotAggregation": null,
        "pivotColumns": null,
        "xColumns": null,
        "yColumns": null
       },
       "removedWidgets": [],
       "schema": [
        {
         "metadata": "{}",
         "name": "transaction_id",
         "type": "\"integer\""
        },
        {
         "metadata": "{}",
         "name": "customer_id",
         "type": "\"integer\""
        },
        {
         "metadata": "{}",
         "name": "product_name",
         "type": "\"string\""
        },
        {
         "metadata": "{\"__detected_date_formats\":\"yyyy-M-d\"}",
         "name": "transaction_date",
         "type": "\"date\""
        }
       ],
       "type": "table"
      }
     },
     "output_type": "display_data"
    },
    {
     "output_type": "stream",
     "name": "stdout",
     "output_type": "stream",
     "text": [
      "Customer DataFrame:\n"
     ]
    },
    {
     "output_type": "display_data",
     "data": {
      "text/html": [
       "<style scoped>\n",
       "  .table-result-container {\n",
       "    max-height: 300px;\n",
       "    overflow: auto;\n",
       "  }\n",
       "  table, th, td {\n",
       "    border: 1px solid black;\n",
       "    border-collapse: collapse;\n",
       "  }\n",
       "  th, td {\n",
       "    padding: 5px;\n",
       "  }\n",
       "  th {\n",
       "    text-align: left;\n",
       "  }\n",
       "</style><div class='table-result-container'><table class='table-result'><thead style='background-color: white'><tr><th>customer_id</th><th>customer_name</th><th>join_date</th><th>location</th></tr></thead><tbody><tr><td>105</td><td>Eva</td><td>2022-01-01T00:00:00.000+0000</td><td>Ohio</td></tr><tr><td>106</td><td>Frank</td><td>2022-02-01T00:00:00.000+0000</td><td>Nevada</td></tr><tr><td>107</td><td>Grace</td><td>2022-03-01T00:00:00.000+0000</td><td>Colorado</td></tr><tr><td>108</td><td>Henry</td><td>2022-04-01T00:00:00.000+0000</td><td>Utah</td></tr></tbody></table></div>"
      ]
     },
     "metadata": {
      "application/vnd.databricks.v1+output": {
       "addedWidgets": {},
       "aggData": [],
       "aggError": "",
       "aggOverflow": false,
       "aggSchema": [],
       "aggSeriesLimitReached": false,
       "aggType": "",
       "arguments": {},
       "columnCustomDisplayInfos": {},
       "data": [
        [
         "105",
         "Eva",
         "2022-01-01T00:00:00.000+0000",
         "Ohio"
        ],
        [
         "106",
         "Frank",
         "2022-02-01T00:00:00.000+0000",
         "Nevada"
        ],
        [
         "107",
         "Grace",
         "2022-03-01T00:00:00.000+0000",
         "Colorado"
        ],
        [
         "108",
         "Henry",
         "2022-04-01T00:00:00.000+0000",
         "Utah"
        ]
       ],
       "datasetInfos": [],
       "dbfsResultPath": null,
       "isJsonSchema": true,
       "metadata": {},
       "overflow": false,
       "plotOptions": {
        "customPlotOptions": {},
        "displayType": "table",
        "pivotAggregation": null,
        "pivotColumns": null,
        "xColumns": null,
        "yColumns": null
       },
       "removedWidgets": [],
       "schema": [
        {
         "metadata": "{}",
         "name": "customer_id",
         "type": "\"string\""
        },
        {
         "metadata": "{}",
         "name": "customer_name",
         "type": "\"string\""
        },
        {
         "metadata": "{}",
         "name": "join_date",
         "type": "\"timestamp\""
        },
        {
         "metadata": "{}",
         "name": "location",
         "type": "\"string\""
        }
       ],
       "type": "table"
      }
     },
     "output_type": "display_data"
    },
    {
     "output_type": "stream",
     "name": "stdout",
     "output_type": "stream",
     "text": [
      "Filtered transactions (iPhone and AirPods only):\n"
     ]
    },
    {
     "output_type": "display_data",
     "data": {
      "text/html": [
       "<style scoped>\n",
       "  .table-result-container {\n",
       "    max-height: 300px;\n",
       "    overflow: auto;\n",
       "  }\n",
       "  table, th, td {\n",
       "    border: 1px solid black;\n",
       "    border-collapse: collapse;\n",
       "  }\n",
       "  th, td {\n",
       "    padding: 5px;\n",
       "  }\n",
       "  th {\n",
       "    text-align: left;\n",
       "  }\n",
       "</style><div class='table-result-container'><table class='table-result'><thead style='background-color: white'><tr><th>transaction_id</th><th>customer_id</th><th>product_name</th><th>transaction_date</th></tr></thead><tbody><tr><td>11</td><td>105</td><td>iPhone</td><td>2022-02-01</td></tr><tr><td>12</td><td>106</td><td>iPhone</td><td>2022-02-02</td></tr><tr><td>13</td><td>107</td><td>AirPods</td><td>2022-02-03</td></tr><tr><td>14</td><td>105</td><td>AirPods</td><td>2022-02-04</td></tr><tr><td>15</td><td>108</td><td>iPhone</td><td>2022-02-05</td></tr><tr><td>17</td><td>107</td><td>iPhone</td><td>2022-02-07</td></tr><tr><td>19</td><td>108</td><td>AirPods</td><td>2022-02-09</td></tr><tr><td>20</td><td>106</td><td>AirPods</td><td>2022-02-10</td></tr></tbody></table></div>"
      ]
     },
     "metadata": {
      "application/vnd.databricks.v1+output": {
       "addedWidgets": {},
       "aggData": [],
       "aggError": "",
       "aggOverflow": false,
       "aggSchema": [],
       "aggSeriesLimitReached": false,
       "aggType": "",
       "arguments": {},
       "columnCustomDisplayInfos": {},
       "data": [
        [
         11,
         105,
         "iPhone",
         "2022-02-01"
        ],
        [
         12,
         106,
         "iPhone",
         "2022-02-02"
        ],
        [
         13,
         107,
         "AirPods",
         "2022-02-03"
        ],
        [
         14,
         105,
         "AirPods",
         "2022-02-04"
        ],
        [
         15,
         108,
         "iPhone",
         "2022-02-05"
        ],
        [
         17,
         107,
         "iPhone",
         "2022-02-07"
        ],
        [
         19,
         108,
         "AirPods",
         "2022-02-09"
        ],
        [
         20,
         106,
         "AirPods",
         "2022-02-10"
        ]
       ],
       "datasetInfos": [],
       "dbfsResultPath": null,
       "isJsonSchema": true,
       "metadata": {},
       "overflow": false,
       "plotOptions": {
        "customPlotOptions": {},
        "displayType": "table",
        "pivotAggregation": null,
        "pivotColumns": null,
        "xColumns": null,
        "yColumns": null
       },
       "removedWidgets": [],
       "schema": [
        {
         "metadata": "{}",
         "name": "transaction_id",
         "type": "\"integer\""
        },
        {
         "metadata": "{}",
         "name": "customer_id",
         "type": "\"integer\""
        },
        {
         "metadata": "{}",
         "name": "product_name",
         "type": "\"string\""
        },
        {
         "metadata": "{\"__detected_date_formats\":\"yyyy-M-d\"}",
         "name": "transaction_date",
         "type": "\"date\""
        }
       ],
       "type": "table"
      }
     },
     "output_type": "display_data"
    },
    {
     "output_type": "stream",
     "name": "stdout",
     "output_type": "stream",
     "text": [
      "Earliest iPhone purchase date per customer:\n"
     ]
    },
    {
     "output_type": "display_data",
     "data": {
      "text/html": [
       "<style scoped>\n",
       "  .table-result-container {\n",
       "    max-height: 300px;\n",
       "    overflow: auto;\n",
       "  }\n",
       "  table, th, td {\n",
       "    border: 1px solid black;\n",
       "    border-collapse: collapse;\n",
       "  }\n",
       "  th, td {\n",
       "    padding: 5px;\n",
       "  }\n",
       "  th {\n",
       "    text-align: left;\n",
       "  }\n",
       "</style><div class='table-result-container'><table class='table-result'><thead style='background-color: white'><tr><th>customer_id</th><th>iphone_date</th></tr></thead><tbody><tr><td>108</td><td>2022-02-05</td></tr><tr><td>107</td><td>2022-02-07</td></tr><tr><td>105</td><td>2022-02-01</td></tr><tr><td>106</td><td>2022-02-02</td></tr></tbody></table></div>"
      ]
     },
     "metadata": {
      "application/vnd.databricks.v1+output": {
       "addedWidgets": {},
       "aggData": [],
       "aggError": "",
       "aggOverflow": false,
       "aggSchema": [],
       "aggSeriesLimitReached": false,
       "aggType": "",
       "arguments": {},
       "columnCustomDisplayInfos": {},
       "data": [
        [
         108,
         "2022-02-05"
        ],
        [
         107,
         "2022-02-07"
        ],
        [
         105,
         "2022-02-01"
        ],
        [
         106,
         "2022-02-02"
        ]
       ],
       "datasetInfos": [],
       "dbfsResultPath": null,
       "isJsonSchema": true,
       "metadata": {},
       "overflow": false,
       "plotOptions": {
        "customPlotOptions": {},
        "displayType": "table",
        "pivotAggregation": null,
        "pivotColumns": null,
        "xColumns": null,
        "yColumns": null
       },
       "removedWidgets": [],
       "schema": [
        {
         "metadata": "{}",
         "name": "customer_id",
         "type": "\"integer\""
        },
        {
         "metadata": "{}",
         "name": "iphone_date",
         "type": "\"date\""
        }
       ],
       "type": "table"
      }
     },
     "output_type": "display_data"
    },
    {
     "output_type": "stream",
     "name": "stdout",
     "output_type": "stream",
     "text": [
      "Earliest AirPods purchase date per customer:\n"
     ]
    },
    {
     "output_type": "display_data",
     "data": {
      "text/html": [
       "<style scoped>\n",
       "  .table-result-container {\n",
       "    max-height: 300px;\n",
       "    overflow: auto;\n",
       "  }\n",
       "  table, th, td {\n",
       "    border: 1px solid black;\n",
       "    border-collapse: collapse;\n",
       "  }\n",
       "  th, td {\n",
       "    padding: 5px;\n",
       "  }\n",
       "  th {\n",
       "    text-align: left;\n",
       "  }\n",
       "</style><div class='table-result-container'><table class='table-result'><thead style='background-color: white'><tr><th>customer_id</th><th>airpods_date</th></tr></thead><tbody><tr><td>108</td><td>2022-02-09</td></tr><tr><td>107</td><td>2022-02-03</td></tr><tr><td>105</td><td>2022-02-04</td></tr><tr><td>106</td><td>2022-02-10</td></tr></tbody></table></div>"
      ]
     },
     "metadata": {
      "application/vnd.databricks.v1+output": {
       "addedWidgets": {},
       "aggData": [],
       "aggError": "",
       "aggOverflow": false,
       "aggSchema": [],
       "aggSeriesLimitReached": false,
       "aggType": "",
       "arguments": {},
       "columnCustomDisplayInfos": {},
       "data": [
        [
         108,
         "2022-02-09"
        ],
        [
         107,
         "2022-02-03"
        ],
        [
         105,
         "2022-02-04"
        ],
        [
         106,
         "2022-02-10"
        ]
       ],
       "datasetInfos": [],
       "dbfsResultPath": null,
       "isJsonSchema": true,
       "metadata": {},
       "overflow": false,
       "plotOptions": {
        "customPlotOptions": {},
        "displayType": "table",
        "pivotAggregation": null,
        "pivotColumns": null,
        "xColumns": null,
        "yColumns": null
       },
       "removedWidgets": [],
       "schema": [
        {
         "metadata": "{}",
         "name": "customer_id",
         "type": "\"integer\""
        },
        {
         "metadata": "{}",
         "name": "airpods_date",
         "type": "\"date\""
        }
       ],
       "type": "table"
      }
     },
     "output_type": "display_data"
    },
    {
     "output_type": "stream",
     "name": "stdout",
     "output_type": "stream",
     "text": [
      "Customers with both iPhone and AirPods purchase dates:\n"
     ]
    },
    {
     "output_type": "display_data",
     "data": {
      "text/html": [
       "<style scoped>\n",
       "  .table-result-container {\n",
       "    max-height: 300px;\n",
       "    overflow: auto;\n",
       "  }\n",
       "  table, th, td {\n",
       "    border: 1px solid black;\n",
       "    border-collapse: collapse;\n",
       "  }\n",
       "  th, td {\n",
       "    padding: 5px;\n",
       "  }\n",
       "  th {\n",
       "    text-align: left;\n",
       "  }\n",
       "</style><div class='table-result-container'><table class='table-result'><thead style='background-color: white'><tr><th>customer_id</th><th>iphone_date</th><th>airpods_date</th></tr></thead><tbody><tr><td>108</td><td>2022-02-05</td><td>2022-02-09</td></tr><tr><td>107</td><td>2022-02-07</td><td>2022-02-03</td></tr><tr><td>105</td><td>2022-02-01</td><td>2022-02-04</td></tr><tr><td>106</td><td>2022-02-02</td><td>2022-02-10</td></tr></tbody></table></div>"
      ]
     },
     "metadata": {
      "application/vnd.databricks.v1+output": {
       "addedWidgets": {},
       "aggData": [],
       "aggError": "",
       "aggOverflow": false,
       "aggSchema": [],
       "aggSeriesLimitReached": false,
       "aggType": "",
       "arguments": {},
       "columnCustomDisplayInfos": {},
       "data": [
        [
         108,
         "2022-02-05",
         "2022-02-09"
        ],
        [
         107,
         "2022-02-07",
         "2022-02-03"
        ],
        [
         105,
         "2022-02-01",
         "2022-02-04"
        ],
        [
         106,
         "2022-02-02",
         "2022-02-10"
        ]
       ],
       "datasetInfos": [],
       "dbfsResultPath": null,
       "isJsonSchema": true,
       "metadata": {},
       "overflow": false,
       "plotOptions": {
        "customPlotOptions": {},
        "displayType": "table",
        "pivotAggregation": null,
        "pivotColumns": null,
        "xColumns": null,
        "yColumns": null
       },
       "removedWidgets": [],
       "schema": [
        {
         "metadata": "{}",
         "name": "customer_id",
         "type": "\"integer\""
        },
        {
         "metadata": "{}",
         "name": "iphone_date",
         "type": "\"date\""
        },
        {
         "metadata": "{}",
         "name": "airpods_date",
         "type": "\"date\""
        }
       ],
       "type": "table"
      }
     },
     "output_type": "display_data"
    },
    {
     "output_type": "stream",
     "name": "stdout",
     "output_type": "stream",
     "text": [
      "Time delay between iPhone and AirPods purchases (in days):\n"
     ]
    },
    {
     "output_type": "display_data",
     "data": {
      "text/html": [
       "<style scoped>\n",
       "  .table-result-container {\n",
       "    max-height: 300px;\n",
       "    overflow: auto;\n",
       "  }\n",
       "  table, th, td {\n",
       "    border: 1px solid black;\n",
       "    border-collapse: collapse;\n",
       "  }\n",
       "  th, td {\n",
       "    padding: 5px;\n",
       "  }\n",
       "  th {\n",
       "    text-align: left;\n",
       "  }\n",
       "</style><div class='table-result-container'><table class='table-result'><thead style='background-color: white'><tr><th>customer_id</th><th>iphone_date</th><th>airpods_date</th><th>time_delay_days</th></tr></thead><tbody><tr><td>108</td><td>2022-02-05</td><td>2022-02-09</td><td>4</td></tr><tr><td>107</td><td>2022-02-07</td><td>2022-02-03</td><td>-4</td></tr><tr><td>105</td><td>2022-02-01</td><td>2022-02-04</td><td>3</td></tr><tr><td>106</td><td>2022-02-02</td><td>2022-02-10</td><td>8</td></tr></tbody></table></div>"
      ]
     },
     "metadata": {
      "application/vnd.databricks.v1+output": {
       "addedWidgets": {},
       "aggData": [],
       "aggError": "",
       "aggOverflow": false,
       "aggSchema": [],
       "aggSeriesLimitReached": false,
       "aggType": "",
       "arguments": {},
       "columnCustomDisplayInfos": {},
       "data": [
        [
         108,
         "2022-02-05",
         "2022-02-09",
         4
        ],
        [
         107,
         "2022-02-07",
         "2022-02-03",
         -4
        ],
        [
         105,
         "2022-02-01",
         "2022-02-04",
         3
        ],
        [
         106,
         "2022-02-02",
         "2022-02-10",
         8
        ]
       ],
       "datasetInfos": [],
       "dbfsResultPath": null,
       "isJsonSchema": true,
       "metadata": {},
       "overflow": false,
       "plotOptions": {
        "customPlotOptions": {},
        "displayType": "table",
        "pivotAggregation": null,
        "pivotColumns": null,
        "xColumns": null,
        "yColumns": null
       },
       "removedWidgets": [],
       "schema": [
        {
         "metadata": "{}",
         "name": "customer_id",
         "type": "\"integer\""
        },
        {
         "metadata": "{}",
         "name": "iphone_date",
         "type": "\"date\""
        },
        {
         "metadata": "{}",
         "name": "airpods_date",
         "type": "\"date\""
        },
        {
         "metadata": "{}",
         "name": "time_delay_days",
         "type": "\"integer\""
        }
       ],
       "type": "table"
      }
     },
     "output_type": "display_data"
    },
    {
     "output_type": "stream",
     "name": "stdout",
     "output_type": "stream",
     "text": [
      "Final DataFrame with customer details and time delay:\nNote: Negative time delay value indiacate AirPods were bought first then Iphone.\n"
     ]
    },
    {
     "output_type": "display_data",
     "data": {
      "text/html": [
       "<style scoped>\n",
       "  .table-result-container {\n",
       "    max-height: 300px;\n",
       "    overflow: auto;\n",
       "  }\n",
       "  table, th, td {\n",
       "    border: 1px solid black;\n",
       "    border-collapse: collapse;\n",
       "  }\n",
       "  th, td {\n",
       "    padding: 5px;\n",
       "  }\n",
       "  th {\n",
       "    text-align: left;\n",
       "  }\n",
       "</style><div class='table-result-container'><table class='table-result'><thead style='background-color: white'><tr><th>customer_id</th><th>iphone_date</th><th>airpods_date</th><th>time_delay_days</th><th>customer_name</th><th>location</th></tr></thead><tbody><tr><td>108</td><td>2022-02-05</td><td>2022-02-09</td><td>4</td><td>Henry</td><td>Utah</td></tr><tr><td>107</td><td>2022-02-07</td><td>2022-02-03</td><td>-4</td><td>Grace</td><td>Colorado</td></tr><tr><td>105</td><td>2022-02-01</td><td>2022-02-04</td><td>3</td><td>Eva</td><td>Ohio</td></tr><tr><td>106</td><td>2022-02-02</td><td>2022-02-10</td><td>8</td><td>Frank</td><td>Nevada</td></tr></tbody></table></div>"
      ]
     },
     "metadata": {
      "application/vnd.databricks.v1+output": {
       "addedWidgets": {},
       "aggData": [],
       "aggError": "",
       "aggOverflow": false,
       "aggSchema": [],
       "aggSeriesLimitReached": false,
       "aggType": "",
       "arguments": {},
       "columnCustomDisplayInfos": {},
       "data": [
        [
         108,
         "2022-02-05",
         "2022-02-09",
         4,
         "Henry",
         "Utah"
        ],
        [
         107,
         "2022-02-07",
         "2022-02-03",
         -4,
         "Grace",
         "Colorado"
        ],
        [
         105,
         "2022-02-01",
         "2022-02-04",
         3,
         "Eva",
         "Ohio"
        ],
        [
         106,
         "2022-02-02",
         "2022-02-10",
         8,
         "Frank",
         "Nevada"
        ]
       ],
       "datasetInfos": [],
       "dbfsResultPath": null,
       "isJsonSchema": true,
       "metadata": {},
       "overflow": false,
       "plotOptions": {
        "customPlotOptions": {},
        "displayType": "table",
        "pivotAggregation": null,
        "pivotColumns": null,
        "xColumns": null,
        "yColumns": null
       },
       "removedWidgets": [],
       "schema": [
        {
         "metadata": "{}",
         "name": "customer_id",
         "type": "\"integer\""
        },
        {
         "metadata": "{}",
         "name": "iphone_date",
         "type": "\"date\""
        },
        {
         "metadata": "{}",
         "name": "airpods_date",
         "type": "\"date\""
        },
        {
         "metadata": "{}",
         "name": "time_delay_days",
         "type": "\"integer\""
        },
        {
         "metadata": "{}",
         "name": "customer_name",
         "type": "\"string\""
        },
        {
         "metadata": "{}",
         "name": "location",
         "type": "\"string\""
        }
       ],
       "type": "table"
      }
     },
     "output_type": "display_data"
    }
   ],
   "source": [
    "pipeline_name = \"fourth_data_pipeline\"\n",
    "data_pipeline_runner = Data_Pipeline_Runner(pipeline_name).runner()"
   ]
  },
  {
   "cell_type": "markdown",
   "metadata": {
    "application/vnd.databricks.v1+cell": {
     "cellMetadata": {},
     "inputWidgets": {},
     "nuid": "722a8b50-f58e-45c5-b7c6-76c1a18edb12",
     "showTitle": false,
     "tableResultSettingsMap": {},
     "title": ""
    }
   },
   "source": [
    "### Fifth Data Pipeline\n",
    "#### Business Logic Implemented: Identify the top 3 selling products in each category by total revenue"
   ]
  },
  {
   "cell_type": "code",
   "execution_count": 0,
   "metadata": {
    "application/vnd.databricks.v1+cell": {
     "cellMetadata": {
      "byteLimit": 2048000,
      "rowLimit": 10000
     },
     "inputWidgets": {},
     "nuid": "d04cb158-f094-408f-9f02-a17216a47d35",
     "showTitle": false,
     "tableResultSettingsMap": {},
     "title": ""
    }
   },
   "outputs": [],
   "source": [
    "class Fifth_Data_Pipeline:\n",
    "    \"\"\"\n",
    "    ETL Pipeline to Identify the top 3 selling products in each category by total revenue\n",
    "    \"\"\"\n",
    "    def __init__(self):\n",
    "        pass\n",
    "    \n",
    "    def runner(self):\n",
    "\n",
    "        # Step 1: Extracting all the required data from difderent sources\n",
    "        input_DFs = Data_Extractor().extract()\n",
    "\n",
    "        # Step 2: Implementing the transformation logic\n",
    "        # Products bought by customers after their initial purchase\n",
    "        fifth_transformed_df = Top_Products_By_Revenue_Transformer().transform(input_DFs)\n",
    "\n",
    "        # Step 3: Loading all the required data to different sink\n",
    "        Top_Products_By_Revenue_Loader(fifth_transformed_df).sink()"
   ]
  },
  {
   "cell_type": "code",
   "execution_count": 0,
   "metadata": {
    "application/vnd.databricks.v1+cell": {
     "cellMetadata": {
      "byteLimit": 2048000,
      "rowLimit": 10000
     },
     "inputWidgets": {},
     "nuid": "f7163b3a-5e28-4aaa-9439-b99264805314",
     "showTitle": false,
     "tableResultSettingsMap": {},
     "title": ""
    }
   },
   "outputs": [
    {
     "output_type": "stream",
     "name": "stdout",
     "output_type": "stream",
     "text": [
      "Extracted Data according to the Customer ID and Transaction date:\n"
     ]
    },
    {
     "output_type": "display_data",
     "data": {
      "text/html": [
       "<style scoped>\n",
       "  .table-result-container {\n",
       "    max-height: 300px;\n",
       "    overflow: auto;\n",
       "  }\n",
       "  table, th, td {\n",
       "    border: 1px solid black;\n",
       "    border-collapse: collapse;\n",
       "  }\n",
       "  th, td {\n",
       "    padding: 5px;\n",
       "  }\n",
       "  th {\n",
       "    text-align: left;\n",
       "  }\n",
       "</style><div class='table-result-container'><table class='table-result'><thead style='background-color: white'><tr><th>transaction_id</th><th>customer_id</th><th>product_name</th><th>transaction_date</th></tr></thead><tbody><tr><td>11</td><td>105</td><td>iPhone</td><td>2022-02-01</td></tr><tr><td>14</td><td>105</td><td>AirPods</td><td>2022-02-04</td></tr><tr><td>18</td><td>105</td><td>MacBook</td><td>2022-02-08</td></tr><tr><td>12</td><td>106</td><td>iPhone</td><td>2022-02-02</td></tr><tr><td>16</td><td>106</td><td>MacBook</td><td>2022-02-06</td></tr><tr><td>20</td><td>106</td><td>AirPods</td><td>2022-02-10</td></tr><tr><td>13</td><td>107</td><td>AirPods</td><td>2022-02-03</td></tr><tr><td>17</td><td>107</td><td>iPhone</td><td>2022-02-07</td></tr><tr><td>15</td><td>108</td><td>iPhone</td><td>2022-02-05</td></tr><tr><td>19</td><td>108</td><td>AirPods</td><td>2022-02-09</td></tr></tbody></table></div>"
      ]
     },
     "metadata": {
      "application/vnd.databricks.v1+output": {
       "addedWidgets": {},
       "aggData": [],
       "aggError": "",
       "aggOverflow": false,
       "aggSchema": [],
       "aggSeriesLimitReached": false,
       "aggType": "",
       "arguments": {},
       "columnCustomDisplayInfos": {},
       "data": [
        [
         11,
         105,
         "iPhone",
         "2022-02-01"
        ],
        [
         14,
         105,
         "AirPods",
         "2022-02-04"
        ],
        [
         18,
         105,
         "MacBook",
         "2022-02-08"
        ],
        [
         12,
         106,
         "iPhone",
         "2022-02-02"
        ],
        [
         16,
         106,
         "MacBook",
         "2022-02-06"
        ],
        [
         20,
         106,
         "AirPods",
         "2022-02-10"
        ],
        [
         13,
         107,
         "AirPods",
         "2022-02-03"
        ],
        [
         17,
         107,
         "iPhone",
         "2022-02-07"
        ],
        [
         15,
         108,
         "iPhone",
         "2022-02-05"
        ],
        [
         19,
         108,
         "AirPods",
         "2022-02-09"
        ]
       ],
       "datasetInfos": [],
       "dbfsResultPath": null,
       "isJsonSchema": true,
       "metadata": {},
       "overflow": false,
       "plotOptions": {
        "customPlotOptions": {},
        "displayType": "table",
        "pivotAggregation": null,
        "pivotColumns": null,
        "xColumns": null,
        "yColumns": null
       },
       "removedWidgets": [],
       "schema": [
        {
         "metadata": "{}",
         "name": "transaction_id",
         "type": "\"integer\""
        },
        {
         "metadata": "{}",
         "name": "customer_id",
         "type": "\"integer\""
        },
        {
         "metadata": "{}",
         "name": "product_name",
         "type": "\"string\""
        },
        {
         "metadata": "{\"__detected_date_formats\":\"yyyy-M-d\"}",
         "name": "transaction_date",
         "type": "\"date\""
        }
       ],
       "type": "table"
      }
     },
     "output_type": "display_data"
    },
    {
     "output_type": "stream",
     "name": "stdout",
     "output_type": "stream",
     "text": [
      "Transaction DataFrame:\n"
     ]
    },
    {
     "output_type": "display_data",
     "data": {
      "text/html": [
       "<style scoped>\n",
       "  .table-result-container {\n",
       "    max-height: 300px;\n",
       "    overflow: auto;\n",
       "  }\n",
       "  table, th, td {\n",
       "    border: 1px solid black;\n",
       "    border-collapse: collapse;\n",
       "  }\n",
       "  th, td {\n",
       "    padding: 5px;\n",
       "  }\n",
       "  th {\n",
       "    text-align: left;\n",
       "  }\n",
       "</style><div class='table-result-container'><table class='table-result'><thead style='background-color: white'><tr><th>transaction_id</th><th>customer_id</th><th>product_name</th><th>transaction_date</th></tr></thead><tbody><tr><td>11</td><td>105</td><td>iPhone</td><td>2022-02-01</td></tr><tr><td>12</td><td>106</td><td>iPhone</td><td>2022-02-02</td></tr><tr><td>13</td><td>107</td><td>AirPods</td><td>2022-02-03</td></tr><tr><td>14</td><td>105</td><td>AirPods</td><td>2022-02-04</td></tr><tr><td>15</td><td>108</td><td>iPhone</td><td>2022-02-05</td></tr><tr><td>16</td><td>106</td><td>MacBook</td><td>2022-02-06</td></tr><tr><td>17</td><td>107</td><td>iPhone</td><td>2022-02-07</td></tr><tr><td>18</td><td>105</td><td>MacBook</td><td>2022-02-08</td></tr><tr><td>19</td><td>108</td><td>AirPods</td><td>2022-02-09</td></tr><tr><td>20</td><td>106</td><td>AirPods</td><td>2022-02-10</td></tr></tbody></table></div>"
      ]
     },
     "metadata": {
      "application/vnd.databricks.v1+output": {
       "addedWidgets": {},
       "aggData": [],
       "aggError": "",
       "aggOverflow": false,
       "aggSchema": [],
       "aggSeriesLimitReached": false,
       "aggType": "",
       "arguments": {},
       "columnCustomDisplayInfos": {},
       "data": [
        [
         11,
         105,
         "iPhone",
         "2022-02-01"
        ],
        [
         12,
         106,
         "iPhone",
         "2022-02-02"
        ],
        [
         13,
         107,
         "AirPods",
         "2022-02-03"
        ],
        [
         14,
         105,
         "AirPods",
         "2022-02-04"
        ],
        [
         15,
         108,
         "iPhone",
         "2022-02-05"
        ],
        [
         16,
         106,
         "MacBook",
         "2022-02-06"
        ],
        [
         17,
         107,
         "iPhone",
         "2022-02-07"
        ],
        [
         18,
         105,
         "MacBook",
         "2022-02-08"
        ],
        [
         19,
         108,
         "AirPods",
         "2022-02-09"
        ],
        [
         20,
         106,
         "AirPods",
         "2022-02-10"
        ]
       ],
       "datasetInfos": [],
       "dbfsResultPath": null,
       "isJsonSchema": true,
       "metadata": {},
       "overflow": false,
       "plotOptions": {
        "customPlotOptions": {},
        "displayType": "table",
        "pivotAggregation": null,
        "pivotColumns": null,
        "xColumns": null,
        "yColumns": null
       },
       "removedWidgets": [],
       "schema": [
        {
         "metadata": "{}",
         "name": "transaction_id",
         "type": "\"integer\""
        },
        {
         "metadata": "{}",
         "name": "customer_id",
         "type": "\"integer\""
        },
        {
         "metadata": "{}",
         "name": "product_name",
         "type": "\"string\""
        },
        {
         "metadata": "{\"__detected_date_formats\":\"yyyy-M-d\"}",
         "name": "transaction_date",
         "type": "\"date\""
        }
       ],
       "type": "table"
      }
     },
     "output_type": "display_data"
    },
    {
     "output_type": "stream",
     "name": "stdout",
     "output_type": "stream",
     "text": [
      "Product DataFrame:\n"
     ]
    },
    {
     "output_type": "display_data",
     "data": {
      "text/html": [
       "<style scoped>\n",
       "  .table-result-container {\n",
       "    max-height: 300px;\n",
       "    overflow: auto;\n",
       "  }\n",
       "  table, th, td {\n",
       "    border: 1px solid black;\n",
       "    border-collapse: collapse;\n",
       "  }\n",
       "  th, td {\n",
       "    padding: 5px;\n",
       "  }\n",
       "  th {\n",
       "    text-align: left;\n",
       "  }\n",
       "</style><div class='table-result-container'><table class='table-result'><thead style='background-color: white'><tr><th>product_id</th><th>product_name</th><th>category</th><th>price</th></tr></thead><tbody><tr><td>5</td><td>iPhone SE</td><td>Smartphone</td><td>450</td></tr><tr><td>6</td><td>AirPods Pro</td><td>Accessory</td><td>250</td></tr><tr><td>7</td><td>MacBook Air</td><td>Laptop</td><td>1000</td></tr><tr><td>8</td><td>iPad Mini</td><td>Tablet</td><td>400</td></tr></tbody></table></div>"
      ]
     },
     "metadata": {
      "application/vnd.databricks.v1+output": {
       "addedWidgets": {},
       "aggData": [],
       "aggError": "",
       "aggOverflow": false,
       "aggSchema": [],
       "aggSeriesLimitReached": false,
       "aggType": "",
       "arguments": {},
       "columnCustomDisplayInfos": {},
       "data": [
        [
         5,
         "iPhone SE",
         "Smartphone",
         450
        ],
        [
         6,
         "AirPods Pro",
         "Accessory",
         250
        ],
        [
         7,
         "MacBook Air",
         "Laptop",
         1000
        ],
        [
         8,
         "iPad Mini",
         "Tablet",
         400
        ]
       ],
       "datasetInfos": [],
       "dbfsResultPath": null,
       "isJsonSchema": true,
       "metadata": {},
       "overflow": false,
       "plotOptions": {
        "customPlotOptions": {},
        "displayType": "table",
        "pivotAggregation": null,
        "pivotColumns": null,
        "xColumns": null,
        "yColumns": null
       },
       "removedWidgets": [],
       "schema": [
        {
         "metadata": "{}",
         "name": "product_id",
         "type": "\"integer\""
        },
        {
         "metadata": "{}",
         "name": "product_name",
         "type": "\"string\""
        },
        {
         "metadata": "{}",
         "name": "category",
         "type": "\"string\""
        },
        {
         "metadata": "{}",
         "name": "price",
         "type": "\"integer\""
        }
       ],
       "type": "table"
      }
     },
     "output_type": "display_data"
    },
    {
     "output_type": "stream",
     "name": "stdout",
     "output_type": "stream",
     "text": [
      "Mapped transaction DataFrame:\n"
     ]
    },
    {
     "output_type": "display_data",
     "data": {
      "text/html": [
       "<style scoped>\n",
       "  .table-result-container {\n",
       "    max-height: 300px;\n",
       "    overflow: auto;\n",
       "  }\n",
       "  table, th, td {\n",
       "    border: 1px solid black;\n",
       "    border-collapse: collapse;\n",
       "  }\n",
       "  th, td {\n",
       "    padding: 5px;\n",
       "  }\n",
       "  th {\n",
       "    text-align: left;\n",
       "  }\n",
       "</style><div class='table-result-container'><table class='table-result'><thead style='background-color: white'><tr><th>transaction_id</th><th>customer_id</th><th>product_name</th><th>transaction_date</th><th>mapped_product_name</th></tr></thead><tbody><tr><td>11</td><td>105</td><td>iPhone</td><td>2022-02-01</td><td>iPhone SE</td></tr><tr><td>12</td><td>106</td><td>iPhone</td><td>2022-02-02</td><td>iPhone SE</td></tr><tr><td>13</td><td>107</td><td>AirPods</td><td>2022-02-03</td><td>AirPods Pro</td></tr><tr><td>14</td><td>105</td><td>AirPods</td><td>2022-02-04</td><td>AirPods Pro</td></tr><tr><td>15</td><td>108</td><td>iPhone</td><td>2022-02-05</td><td>iPhone SE</td></tr><tr><td>16</td><td>106</td><td>MacBook</td><td>2022-02-06</td><td>MacBook Air</td></tr><tr><td>17</td><td>107</td><td>iPhone</td><td>2022-02-07</td><td>iPhone SE</td></tr><tr><td>18</td><td>105</td><td>MacBook</td><td>2022-02-08</td><td>MacBook Air</td></tr><tr><td>19</td><td>108</td><td>AirPods</td><td>2022-02-09</td><td>AirPods Pro</td></tr><tr><td>20</td><td>106</td><td>AirPods</td><td>2022-02-10</td><td>AirPods Pro</td></tr></tbody></table></div>"
      ]
     },
     "metadata": {
      "application/vnd.databricks.v1+output": {
       "addedWidgets": {},
       "aggData": [],
       "aggError": "",
       "aggOverflow": false,
       "aggSchema": [],
       "aggSeriesLimitReached": false,
       "aggType": "",
       "arguments": {},
       "columnCustomDisplayInfos": {},
       "data": [
        [
         11,
         105,
         "iPhone",
         "2022-02-01",
         "iPhone SE"
        ],
        [
         12,
         106,
         "iPhone",
         "2022-02-02",
         "iPhone SE"
        ],
        [
         13,
         107,
         "AirPods",
         "2022-02-03",
         "AirPods Pro"
        ],
        [
         14,
         105,
         "AirPods",
         "2022-02-04",
         "AirPods Pro"
        ],
        [
         15,
         108,
         "iPhone",
         "2022-02-05",
         "iPhone SE"
        ],
        [
         16,
         106,
         "MacBook",
         "2022-02-06",
         "MacBook Air"
        ],
        [
         17,
         107,
         "iPhone",
         "2022-02-07",
         "iPhone SE"
        ],
        [
         18,
         105,
         "MacBook",
         "2022-02-08",
         "MacBook Air"
        ],
        [
         19,
         108,
         "AirPods",
         "2022-02-09",
         "AirPods Pro"
        ],
        [
         20,
         106,
         "AirPods",
         "2022-02-10",
         "AirPods Pro"
        ]
       ],
       "datasetInfos": [],
       "dbfsResultPath": null,
       "isJsonSchema": true,
       "metadata": {},
       "overflow": false,
       "plotOptions": {
        "customPlotOptions": {},
        "displayType": "table",
        "pivotAggregation": null,
        "pivotColumns": null,
        "xColumns": null,
        "yColumns": null
       },
       "removedWidgets": [],
       "schema": [
        {
         "metadata": "{}",
         "name": "transaction_id",
         "type": "\"integer\""
        },
        {
         "metadata": "{}",
         "name": "customer_id",
         "type": "\"integer\""
        },
        {
         "metadata": "{}",
         "name": "product_name",
         "type": "\"string\""
        },
        {
         "metadata": "{\"__detected_date_formats\":\"yyyy-M-d\"}",
         "name": "transaction_date",
         "type": "\"date\""
        },
        {
         "metadata": "{}",
         "name": "mapped_product_name",
         "type": "\"string\""
        }
       ],
       "type": "table"
      }
     },
     "output_type": "display_data"
    },
    {
     "output_type": "stream",
     "name": "stdout",
     "output_type": "stream",
     "text": [
      "Merged DataFrame with resolved product names:\n"
     ]
    },
    {
     "output_type": "display_data",
     "data": {
      "text/html": [
       "<style scoped>\n",
       "  .table-result-container {\n",
       "    max-height: 300px;\n",
       "    overflow: auto;\n",
       "  }\n",
       "  table, th, td {\n",
       "    border: 1px solid black;\n",
       "    border-collapse: collapse;\n",
       "  }\n",
       "  th, td {\n",
       "    padding: 5px;\n",
       "  }\n",
       "  th {\n",
       "    text-align: left;\n",
       "  }\n",
       "</style><div class='table-result-container'><table class='table-result'><thead style='background-color: white'><tr><th>transaction_id</th><th>customer_id</th><th>product_name</th><th>transaction_date</th><th>mapped_product_name</th><th>product_id</th><th>full_product_name</th><th>category</th><th>price</th></tr></thead><tbody><tr><td>11</td><td>105</td><td>iPhone</td><td>2022-02-01</td><td>iPhone SE</td><td>5</td><td>iPhone SE</td><td>Smartphone</td><td>450</td></tr><tr><td>12</td><td>106</td><td>iPhone</td><td>2022-02-02</td><td>iPhone SE</td><td>5</td><td>iPhone SE</td><td>Smartphone</td><td>450</td></tr><tr><td>13</td><td>107</td><td>AirPods</td><td>2022-02-03</td><td>AirPods Pro</td><td>6</td><td>AirPods Pro</td><td>Accessory</td><td>250</td></tr><tr><td>14</td><td>105</td><td>AirPods</td><td>2022-02-04</td><td>AirPods Pro</td><td>6</td><td>AirPods Pro</td><td>Accessory</td><td>250</td></tr><tr><td>15</td><td>108</td><td>iPhone</td><td>2022-02-05</td><td>iPhone SE</td><td>5</td><td>iPhone SE</td><td>Smartphone</td><td>450</td></tr><tr><td>16</td><td>106</td><td>MacBook</td><td>2022-02-06</td><td>MacBook Air</td><td>7</td><td>MacBook Air</td><td>Laptop</td><td>1000</td></tr><tr><td>17</td><td>107</td><td>iPhone</td><td>2022-02-07</td><td>iPhone SE</td><td>5</td><td>iPhone SE</td><td>Smartphone</td><td>450</td></tr><tr><td>18</td><td>105</td><td>MacBook</td><td>2022-02-08</td><td>MacBook Air</td><td>7</td><td>MacBook Air</td><td>Laptop</td><td>1000</td></tr><tr><td>19</td><td>108</td><td>AirPods</td><td>2022-02-09</td><td>AirPods Pro</td><td>6</td><td>AirPods Pro</td><td>Accessory</td><td>250</td></tr><tr><td>20</td><td>106</td><td>AirPods</td><td>2022-02-10</td><td>AirPods Pro</td><td>6</td><td>AirPods Pro</td><td>Accessory</td><td>250</td></tr></tbody></table></div>"
      ]
     },
     "metadata": {
      "application/vnd.databricks.v1+output": {
       "addedWidgets": {},
       "aggData": [],
       "aggError": "",
       "aggOverflow": false,
       "aggSchema": [],
       "aggSeriesLimitReached": false,
       "aggType": "",
       "arguments": {},
       "columnCustomDisplayInfos": {},
       "data": [
        [
         11,
         105,
         "iPhone",
         "2022-02-01",
         "iPhone SE",
         5,
         "iPhone SE",
         "Smartphone",
         450
        ],
        [
         12,
         106,
         "iPhone",
         "2022-02-02",
         "iPhone SE",
         5,
         "iPhone SE",
         "Smartphone",
         450
        ],
        [
         13,
         107,
         "AirPods",
         "2022-02-03",
         "AirPods Pro",
         6,
         "AirPods Pro",
         "Accessory",
         250
        ],
        [
         14,
         105,
         "AirPods",
         "2022-02-04",
         "AirPods Pro",
         6,
         "AirPods Pro",
         "Accessory",
         250
        ],
        [
         15,
         108,
         "iPhone",
         "2022-02-05",
         "iPhone SE",
         5,
         "iPhone SE",
         "Smartphone",
         450
        ],
        [
         16,
         106,
         "MacBook",
         "2022-02-06",
         "MacBook Air",
         7,
         "MacBook Air",
         "Laptop",
         1000
        ],
        [
         17,
         107,
         "iPhone",
         "2022-02-07",
         "iPhone SE",
         5,
         "iPhone SE",
         "Smartphone",
         450
        ],
        [
         18,
         105,
         "MacBook",
         "2022-02-08",
         "MacBook Air",
         7,
         "MacBook Air",
         "Laptop",
         1000
        ],
        [
         19,
         108,
         "AirPods",
         "2022-02-09",
         "AirPods Pro",
         6,
         "AirPods Pro",
         "Accessory",
         250
        ],
        [
         20,
         106,
         "AirPods",
         "2022-02-10",
         "AirPods Pro",
         6,
         "AirPods Pro",
         "Accessory",
         250
        ]
       ],
       "datasetInfos": [],
       "dbfsResultPath": null,
       "isJsonSchema": true,
       "metadata": {},
       "overflow": false,
       "plotOptions": {
        "customPlotOptions": {},
        "displayType": "table",
        "pivotAggregation": null,
        "pivotColumns": null,
        "xColumns": null,
        "yColumns": null
       },
       "removedWidgets": [],
       "schema": [
        {
         "metadata": "{}",
         "name": "transaction_id",
         "type": "\"integer\""
        },
        {
         "metadata": "{}",
         "name": "customer_id",
         "type": "\"integer\""
        },
        {
         "metadata": "{}",
         "name": "product_name",
         "type": "\"string\""
        },
        {
         "metadata": "{\"__detected_date_formats\":\"yyyy-M-d\"}",
         "name": "transaction_date",
         "type": "\"date\""
        },
        {
         "metadata": "{}",
         "name": "mapped_product_name",
         "type": "\"string\""
        },
        {
         "metadata": "{}",
         "name": "product_id",
         "type": "\"integer\""
        },
        {
         "metadata": "{}",
         "name": "full_product_name",
         "type": "\"string\""
        },
        {
         "metadata": "{}",
         "name": "category",
         "type": "\"string\""
        },
        {
         "metadata": "{}",
         "name": "price",
         "type": "\"integer\""
        }
       ],
       "type": "table"
      }
     },
     "output_type": "display_data"
    },
    {
     "output_type": "stream",
     "name": "stdout",
     "output_type": "stream",
     "text": [
      "Total revenue per product:\n"
     ]
    },
    {
     "output_type": "display_data",
     "data": {
      "text/html": [
       "<style scoped>\n",
       "  .table-result-container {\n",
       "    max-height: 300px;\n",
       "    overflow: auto;\n",
       "  }\n",
       "  table, th, td {\n",
       "    border: 1px solid black;\n",
       "    border-collapse: collapse;\n",
       "  }\n",
       "  th, td {\n",
       "    padding: 5px;\n",
       "  }\n",
       "  th {\n",
       "    text-align: left;\n",
       "  }\n",
       "</style><div class='table-result-container'><table class='table-result'><thead style='background-color: white'><tr><th>full_product_name</th><th>category</th><th>total_revenue</th></tr></thead><tbody><tr><td>iPhone SE</td><td>Smartphone</td><td>1800</td></tr><tr><td>MacBook Air</td><td>Laptop</td><td>2000</td></tr><tr><td>AirPods Pro</td><td>Accessory</td><td>1000</td></tr></tbody></table></div>"
      ]
     },
     "metadata": {
      "application/vnd.databricks.v1+output": {
       "addedWidgets": {},
       "aggData": [],
       "aggError": "",
       "aggOverflow": false,
       "aggSchema": [],
       "aggSeriesLimitReached": false,
       "aggType": "",
       "arguments": {},
       "columnCustomDisplayInfos": {},
       "data": [
        [
         "iPhone SE",
         "Smartphone",
         1800
        ],
        [
         "MacBook Air",
         "Laptop",
         2000
        ],
        [
         "AirPods Pro",
         "Accessory",
         1000
        ]
       ],
       "datasetInfos": [],
       "dbfsResultPath": null,
       "isJsonSchema": true,
       "metadata": {},
       "overflow": false,
       "plotOptions": {
        "customPlotOptions": {},
        "displayType": "table",
        "pivotAggregation": null,
        "pivotColumns": null,
        "xColumns": null,
        "yColumns": null
       },
       "removedWidgets": [],
       "schema": [
        {
         "metadata": "{}",
         "name": "full_product_name",
         "type": "\"string\""
        },
        {
         "metadata": "{}",
         "name": "category",
         "type": "\"string\""
        },
        {
         "metadata": "{}",
         "name": "total_revenue",
         "type": "\"long\""
        }
       ],
       "type": "table"
      }
     },
     "output_type": "display_data"
    },
    {
     "output_type": "stream",
     "name": "stdout",
     "output_type": "stream",
     "text": [
      "Globally ranked products by total revenue:\n"
     ]
    },
    {
     "output_type": "display_data",
     "data": {
      "text/html": [
       "<style scoped>\n",
       "  .table-result-container {\n",
       "    max-height: 300px;\n",
       "    overflow: auto;\n",
       "  }\n",
       "  table, th, td {\n",
       "    border: 1px solid black;\n",
       "    border-collapse: collapse;\n",
       "  }\n",
       "  th, td {\n",
       "    padding: 5px;\n",
       "  }\n",
       "  th {\n",
       "    text-align: left;\n",
       "  }\n",
       "</style><div class='table-result-container'><table class='table-result'><thead style='background-color: white'><tr><th>full_product_name</th><th>category</th><th>total_revenue</th><th>rank</th></tr></thead><tbody><tr><td>MacBook Air</td><td>Laptop</td><td>2000</td><td>1</td></tr><tr><td>iPhone SE</td><td>Smartphone</td><td>1800</td><td>2</td></tr><tr><td>AirPods Pro</td><td>Accessory</td><td>1000</td><td>3</td></tr></tbody></table></div>"
      ]
     },
     "metadata": {
      "application/vnd.databricks.v1+output": {
       "addedWidgets": {},
       "aggData": [],
       "aggError": "",
       "aggOverflow": false,
       "aggSchema": [],
       "aggSeriesLimitReached": false,
       "aggType": "",
       "arguments": {},
       "columnCustomDisplayInfos": {},
       "data": [
        [
         "MacBook Air",
         "Laptop",
         2000,
         1
        ],
        [
         "iPhone SE",
         "Smartphone",
         1800,
         2
        ],
        [
         "AirPods Pro",
         "Accessory",
         1000,
         3
        ]
       ],
       "datasetInfos": [],
       "dbfsResultPath": null,
       "isJsonSchema": true,
       "metadata": {},
       "overflow": false,
       "plotOptions": {
        "customPlotOptions": {},
        "displayType": "table",
        "pivotAggregation": null,
        "pivotColumns": null,
        "xColumns": null,
        "yColumns": null
       },
       "removedWidgets": [],
       "schema": [
        {
         "metadata": "{}",
         "name": "full_product_name",
         "type": "\"string\""
        },
        {
         "metadata": "{}",
         "name": "category",
         "type": "\"string\""
        },
        {
         "metadata": "{}",
         "name": "total_revenue",
         "type": "\"long\""
        },
        {
         "metadata": "{}",
         "name": "rank",
         "type": "\"integer\""
        }
       ],
       "type": "table"
      }
     },
     "output_type": "display_data"
    }
   ],
   "source": [
    "pipeline_name = \"fifth_data_pipeline\"\n",
    "data_pipeline_runner = Data_Pipeline_Runner(pipeline_name).runner()"
   ]
  }
 ],
 "metadata": {
  "application/vnd.databricks.v1+notebook": {
   "computePreferences": null,
   "dashboards": [],
   "environmentMetadata": {
    "base_environment": "",
    "environment_version": "1"
   },
   "inputWidgetPreferences": null,
   "language": "python",
   "notebookMetadata": {
    "pythonIndentUnit": 4
   },
   "notebookName": "Apple_Sales_Analysis",
   "widgets": {}
  }
 },
 "nbformat": 4,
 "nbformat_minor": 0
}