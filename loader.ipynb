{
 "cells": [
  {
   "cell_type": "markdown",
   "metadata": {
    "application/vnd.databricks.v1+cell": {
     "cellMetadata": {},
     "inputWidgets": {},
     "nuid": "8d8af144-2e5b-4334-82d3-bb2d6a96ef6b",
     "showTitle": false,
     "tableResultSettingsMap": {},
     "title": ""
    }
   },
   "source": [
    "# Loader Class"
   ]
  },
  {
   "cell_type": "code",
   "execution_count": 0,
   "metadata": {
    "application/vnd.databricks.v1+cell": {
     "cellMetadata": {
      "byteLimit": 2048000,
      "rowLimit": 10000
     },
     "inputWidgets": {},
     "nuid": "d46736b5-1567-4add-88ec-cad7a810bf74",
     "showTitle": false,
     "tableResultSettingsMap": {},
     "title": ""
    }
   },
   "outputs": [],
   "source": [
    "%run \"./loader_factory\""
   ]
  },
  {
   "cell_type": "code",
   "execution_count": 0,
   "metadata": {
    "application/vnd.databricks.v1+cell": {
     "cellMetadata": {
      "byteLimit": 2048000,
      "rowLimit": 10000
     },
     "inputWidgets": {},
     "nuid": "9e8a9cac-e716-4410-9db1-ad9f96951021",
     "showTitle": false,
     "tableResultSettingsMap": {},
     "title": ""
    }
   },
   "outputs": [],
   "source": [
    "class Abstract_Loader:\n",
    "\n",
    "    def __init__(self, transformed_df):\n",
    "        self.transformed_df = transformed_df\n",
    "\n",
    "    def sink(self):\n",
    "        pass\n",
    "        \n",
    "class Airpods_after_Iphone_Loader(Abstract_Loader):\n",
    "    def sink(self):\n",
    "        if self.transformed_df is None:\n",
    "            raise ValueError(\"transformed_df is None. Cannot load data.\")\n",
    "        \n",
    "        get_sink_source(\n",
    "            sink_type = \"dbfs\",\n",
    "            df = self.transformed_df,\n",
    "            path = \"dbfs:/FileStore/tables/apple_analysis/output/airpodsAfterIphone\",\n",
    "            method = \"overwrite\"\n",
    "        ).load_data_frame()\n",
    "        \n",
    "class Only_Airpods_and_Iphone_Loader(Abstract_Loader):\n",
    "\n",
    "    def sink(self):\n",
    "        if self.transformed_df is None:\n",
    "            raise ValueError(\"transformed_df is None. Cannot load data.\")\n",
    "\n",
    "        params = {\n",
    "            \"partition_by_columns\": [\"location\"]\n",
    "        }\n",
    "\n",
    "        get_sink_source(\n",
    "            sink_type = \"dbfs_with_partition\",\n",
    "            df = self.transformed_df, \n",
    "            path = \"dbfs:/FileStore/tables/apple_analysis/output/airpodsOnlyIphone\", \n",
    "            method = \"overwrite\",\n",
    "            params = params\n",
    "        ).load_data_frame()\n",
    "\n",
    "        get_sink_source(\n",
    "            sink_type = \"delta\",\n",
    "            df = self.transformed_df, \n",
    "            path = \"default.onlyAirPodsAndIphone\", \n",
    "            method = \"overwrite\",\n",
    "        ).load_data_frame()\n",
    "\n",
    "class Products_after_Initial_Purchase_Loader(Abstract_Loader):\n",
    "\n",
    "    def sink(self):\n",
    "        if self.transformed_df is None:\n",
    "            raise ValueError(\"transformed_df is None. Cannot load data.\")\n",
    "\n",
    "        params = {\n",
    "            \"partition_by_columns\": [\"location\"]\n",
    "        }\n",
    "\n",
    "        get_sink_source(\n",
    "            sink_type = \"dbfs_with_partition\",\n",
    "            df = self.transformed_df, \n",
    "            path = \"dbfs:/FileStore/tables/apple_analysis/output/productsafterinitialpurchase\", \n",
    "            method = \"overwrite\",\n",
    "            params = params\n",
    "        ).load_data_frame()\n",
    "\n",
    "class Avg_Time_Delay_iPhone_AirPods_Loader(Abstract_Loader):\n",
    "\n",
    "    def sink(self):\n",
    "        if self.transformed_df is None:\n",
    "            raise ValueError(\"transformed_df is None. Cannot load data.\")\n",
    "\n",
    "        get_sink_source(\n",
    "            sink_type = \"dbfs\",\n",
    "            df = self.transformed_df,\n",
    "            path = \"dbfs:/FileStore/tables/apple_analysis/output/avgtimedelayiphoneandairpods\",\n",
    "            method = \"overwrite\"\n",
    "        ).load_data_frame()\n",
    "\n",
    "class Top_Products_By_Revenue_Loader(Abstract_Loader):\n",
    "\n",
    "    def sink(self):\n",
    "        if self.transformed_df is None:\n",
    "            raise ValueError(\"transformed_df is None. Cannot load data.\")\n",
    "\n",
    "        get_sink_source(\n",
    "            sink_type = \"dbfs\",\n",
    "            df = self.transformed_df,\n",
    "            path = \"dbfs:/FileStore/tables/apple_analysis/output/topproductsbyrevenue\",\n",
    "            method = \"overwrite\"\n",
    "        ).load_data_frame()\n"
   ]
  }
 ],
 "metadata": {
  "application/vnd.databricks.v1+notebook": {
   "computePreferences": null,
   "dashboards": [],
   "environmentMetadata": {
    "base_environment": "",
    "environment_version": "1"
   },
   "inputWidgetPreferences": null,
   "language": "python",
   "notebookMetadata": {
    "pythonIndentUnit": 4
   },
   "notebookName": "loader",
   "widgets": {}
  }
 },
 "nbformat": 4,
 "nbformat_minor": 0
}