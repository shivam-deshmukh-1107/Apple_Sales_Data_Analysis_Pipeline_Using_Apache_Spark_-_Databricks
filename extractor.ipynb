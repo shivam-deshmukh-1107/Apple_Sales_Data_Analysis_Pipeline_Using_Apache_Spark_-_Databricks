{
 "cells": [
  {
   "cell_type": "markdown",
   "metadata": {
    "application/vnd.databricks.v1+cell": {
     "cellMetadata": {
      "byteLimit": 2048000,
      "rowLimit": 10000
     },
     "inputWidgets": {},
     "nuid": "64b3aa99-1ff5-4f63-bb87-5007f42abc5f",
     "showTitle": false,
     "tableResultSettingsMap": {},
     "title": ""
    }
   },
   "source": [
    "# Extractor Class"
   ]
  },
  {
   "cell_type": "code",
   "execution_count": 0,
   "metadata": {
    "application/vnd.databricks.v1+cell": {
     "cellMetadata": {
      "byteLimit": 2048000,
      "rowLimit": 10000
     },
     "inputWidgets": {},
     "nuid": "fbc11426-e2b5-40a3-9251-e44db7c9c2f3",
     "showTitle": false,
     "tableResultSettingsMap": {},
     "title": ""
    }
   },
   "outputs": [],
   "source": [
    "%run \"./reader_factory\""
   ]
  },
  {
   "cell_type": "code",
   "execution_count": 0,
   "metadata": {
    "application/vnd.databricks.v1+cell": {
     "cellMetadata": {
      "byteLimit": 2048000,
      "rowLimit": 10000
     },
     "inputWidgets": {},
     "nuid": "0dcc9391-a8af-41be-92d8-3e4d4cd139ec",
     "showTitle": false,
     "tableResultSettingsMap": {},
     "title": ""
    }
   },
   "outputs": [],
   "source": [
    "class Extractor:\n",
    "    \"\"\"\n",
    "    Abstract Class\n",
    "    \"\"\"\n",
    "    def __init__(self):\n",
    "        pass\n",
    "    \n",
    "    def extract(self):\n",
    "        pass\n"
   ]
  },
  {
   "cell_type": "code",
   "execution_count": 0,
   "metadata": {
    "application/vnd.databricks.v1+cell": {
     "cellMetadata": {
      "byteLimit": 2048000,
      "rowLimit": 10000
     },
     "inputWidgets": {},
     "nuid": "23cd00b8-8a3b-4766-a38a-8118ddcb3253",
     "showTitle": false,
     "tableResultSettingsMap": {},
     "title": ""
    }
   },
   "outputs": [],
   "source": [
    "# Data Extractor Class\n",
    "class Data_Extractor(Extractor):\n",
    "\n",
    "    def extract(self):\n",
    "        \"\"\"\n",
    "        Implementing steps for extracting or reading the data\n",
    "        \"\"\"\n",
    "        transaction_input_DF = get_data_source(\n",
    "            data_type = \"csv\",\n",
    "            file_path = \"dbfs:/FileStore/tables/Transactions.csv\",\n",
    "            delimiter=\",\"\n",
    "        ).get_data_frame()\n",
    "\n",
    "        print(\"Extracted Data according to the Customer ID and Transaction date:\")\n",
    "        display(transaction_input_DF.orderBy(\"customer_id\", \"transaction_date\"))\n",
    "\n",
    "        customer_input_DF = get_data_source(\n",
    "            data_type = \"delta\",\n",
    "            file_path = \"default.customer_delta_table\"\n",
    "        ).get_data_frame()\n",
    "\n",
    "        product_input_DF = get_data_source(\n",
    "            data_type = \"csv\",\n",
    "            file_path = \"dbfs:/FileStore/tables/Products-1.csv\",\n",
    "            delimiter=\",\"\n",
    "        ).get_data_frame()\n",
    "\n",
    "        input_DFs = {\n",
    "            \"transaction_input_DF\": transaction_input_DF,\n",
    "            \"customer_input_DF\": customer_input_DF,\n",
    "            \"product_input_DF\": product_input_DF\n",
    "        }\n",
    "\n",
    "        return input_DFs\n"
   ]
  }
 ],
 "metadata": {
  "application/vnd.databricks.v1+notebook": {
   "computePreferences": null,
   "dashboards": [],
   "environmentMetadata": {
    "base_environment": "",
    "environment_version": "1"
   },
   "inputWidgetPreferences": null,
   "language": "python",
   "notebookMetadata": {
    "pythonIndentUnit": 4
   },
   "notebookName": "extractor",
   "widgets": {}
  }
 },
 "nbformat": 4,
 "nbformat_minor": 0
}