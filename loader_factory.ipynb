{
 "cells": [
  {
   "cell_type": "markdown",
   "metadata": {
    "application/vnd.databricks.v1+cell": {
     "cellMetadata": {},
     "inputWidgets": {},
     "nuid": "5aa5d4d3-7eed-4b55-bfb0-15881ee55506",
     "showTitle": false,
     "tableResultSettingsMap": {},
     "title": ""
    }
   },
   "source": [
    "# Loader Factory Class\n",
    "Designed to load different type of data"
   ]
  },
  {
   "cell_type": "code",
   "execution_count": 0,
   "metadata": {
    "application/vnd.databricks.v1+cell": {
     "cellMetadata": {
      "byteLimit": 2048000,
      "rowLimit": 10000
     },
     "inputWidgets": {},
     "nuid": "11e3bf8e-0c7d-48b3-8b22-c890f1c49d57",
     "showTitle": false,
     "tableResultSettingsMap": {},
     "title": ""
    }
   },
   "outputs": [],
   "source": [
    "class Data_Sink:\n",
    "    \"\"\"\n",
    "    Abstract Class\n",
    "    \"\"\"\n",
    "    def __init__(self, df, path, method, params):\n",
    "        self.df = df\n",
    "        self.path = path\n",
    "        self.method = method\n",
    "        self.params = params\n",
    "\n",
    "    def load_data_frame(self):\n",
    "        \"\"\"\n",
    "        Abstract Method - Functions will be defined in subclasses\n",
    "        \"\"\"\n",
    "        raise ValueError(\"Not Implemented !!\")\n",
    "\n",
    "\n",
    "class Load_To_DBFS(Data_Sink):\n",
    "\n",
    "    def load_data_frame(self):\n",
    "        self.df.write.mode(self.method).save(self.path)\n",
    "\n",
    "class Load_To_DBFS_with_partition(Data_Sink):\n",
    "\n",
    "    def load_data_frame(self):\n",
    "        partition_by_columns = self.params.get(\"partition_by_columns\")\n",
    "        self.df.write.mode(self.method).partitionBy(*partition_by_columns).save(self.path)\n",
    "\n",
    "class Load_To_Delta_Table(Data_Sink):\n",
    "\n",
    "    def load_data_frame(self):\n",
    "        \n",
    "        self.df.write.format('delta').mode(self.method).saveAsTable(self.path)\n",
    "\n",
    "def get_sink_source(sink_type, df, path, method, params = None):\n",
    "    if params is None:\n",
    "        params = {}\n",
    "    \n",
    "    if sink_type == \"dbfs\":\n",
    "        return Load_To_DBFS(df, path, method, params)\n",
    "        \n",
    "    elif sink_type == \"dbfs_with_partition\":\n",
    "        return Load_To_DBFS_with_partition(df, path, method, params)\n",
    "    \n",
    "    elif sink_type == \"delta\":\n",
    "        return Load_To_Delta_Table(df, path, method, params)\n",
    "        \n",
    "    else:\n",
    "        return ValueError(f\"Not Implemented for sink type: {sink_type}\")"
   ]
  }
 ],
 "metadata": {
  "application/vnd.databricks.v1+notebook": {
   "computePreferences": null,
   "dashboards": [],
   "environmentMetadata": {
    "base_environment": "",
    "environment_version": "1"
   },
   "inputWidgetPreferences": null,
   "language": "python",
   "notebookMetadata": {
    "pythonIndentUnit": 4
   },
   "notebookName": "loader_factory",
   "widgets": {}
  }
 },
 "nbformat": 4,
 "nbformat_minor": 0
}